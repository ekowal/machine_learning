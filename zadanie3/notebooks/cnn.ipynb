{
 "cells": [
  {
   "cell_type": "code",
   "execution_count": 1,
   "metadata": {
    "execution": {
     "iopub.execute_input": "2023-01-21T16:41:14.116423Z",
     "iopub.status.busy": "2023-01-21T16:41:14.115959Z",
     "iopub.status.idle": "2023-01-21T16:41:17.089341Z",
     "shell.execute_reply": "2023-01-21T16:41:17.088068Z",
     "shell.execute_reply.started": "2023-01-21T16:41:14.116347Z"
    }
   },
   "outputs": [],
   "source": [
    "from keras.layers import (BatchNormalization, Convolution2D, Dense,\n",
    "                          Dropout, Flatten, MaxPooling2D, Input, Add,\n",
    "                          AveragePooling2D, Activation, ZeroPadding2D, \n",
    "                          Concatenate, Reshape)\n",
    "from keras.models import Sequential, Model\n",
    "from keras.optimizers import Adam, SGD\n",
    "from keras.regularizers import l2\n",
    "from keras.datasets import mnist\n",
    "from keras.utils import to_categorical, plot_model\n",
    "from keras.losses import sparse_categorical_crossentropy as scc\n",
    "\n",
    "from pool_helper import PoolHelper\n",
    "from lrn import LRN\n",
    "\n",
    "import numpy as np\n",
    "\n",
    "epochs = 10"
   ]
  },
  {
   "cell_type": "markdown",
   "metadata": {},
   "source": [
    "# Simple convolutional neural network"
   ]
  },
  {
   "cell_type": "markdown",
   "metadata": {},
   "source": [
    "First we'll implement simple cnn with one convolutional layer "
   ]
  },
  {
   "cell_type": "code",
   "execution_count": 16,
   "metadata": {
    "execution": {
     "iopub.execute_input": "2023-01-21T13:42:54.789521Z",
     "iopub.status.busy": "2023-01-21T13:42:54.789138Z",
     "iopub.status.idle": "2023-01-21T13:42:54.796781Z",
     "shell.execute_reply": "2023-01-21T13:42:54.795396Z",
     "shell.execute_reply.started": "2023-01-21T13:42:54.789484Z"
    }
   },
   "outputs": [],
   "source": [
    "class SimpleCNN(Sequential):\n",
    "    def __init__(self, input_shape, num_classes):\n",
    "        super().__init__()\n",
    "\n",
    "        self.add(Convolution2D(10, kernel_size=3, activation=\"relu\", input_shape=input_shape))\n",
    "        self.add(Convolution2D(32, kernel_size=3, activation=\"relu\"))\n",
    "        self.add(Flatten())\n",
    "        self.add(Dense(num_classes, activation=\"softmax\"))\n",
    "\n",
    "        self.compile(optimizer='adam', loss='categorical_crossentropy', metrics=['accuracy'])"
   ]
  },
  {
   "cell_type": "markdown",
   "metadata": {},
   "source": [
    "# VGG16 i VGG19"
   ]
  },
  {
   "cell_type": "code",
   "execution_count": 5,
   "metadata": {
    "execution": {
     "iopub.execute_input": "2023-01-21T16:42:11.543592Z",
     "iopub.status.busy": "2023-01-21T16:42:11.543270Z",
     "iopub.status.idle": "2023-01-21T16:42:11.554010Z",
     "shell.execute_reply": "2023-01-21T16:42:11.553278Z",
     "shell.execute_reply.started": "2023-01-21T16:42:11.543568Z"
    }
   },
   "outputs": [],
   "source": [
    "class VGG(Sequential):\n",
    "    def __init__(self, input_shape, num_classes, vgg_type=16):\n",
    "        super().__init__()\n",
    "\n",
    "        self.add(Convolution2D(64, kernel_size=(3,3), padding=\"same\", activation=\"relu\", input_shape=input_shape))\n",
    "        self.add(Convolution2D(64, kernel_size=(3,3), padding=\"same\", activation=\"relu\"))\n",
    "        self.add(MaxPooling2D((2, 2)))\n",
    "        \n",
    "        self.add(Convolution2D(128, kernel_size=(3,3), padding=\"same\", activation=\"relu\"))\n",
    "        self.add(Convolution2D(128, kernel_size=(3,3), padding=\"same\", activation=\"relu\"))\n",
    "        self.add(MaxPooling2D((2, 2)))\n",
    "        \n",
    "        if vgg_type == 16:\n",
    "            self.__tri_conv(256)\n",
    "            self.__tri_conv(512)\n",
    "            self.__tri_conv(512)\n",
    "        else:\n",
    "            self.__qua_conv(256)\n",
    "            self.__qua_conv(512)\n",
    "            self.__qua_conv(512)\n",
    "        \n",
    "        self.add(Flatten())\n",
    "        self.add(Dense(4096, activation=\"relu\"))\n",
    "        self.add(Dense(4096, activation=\"relu\"))\n",
    "        self.add(Dense(num_classes, activation=\"softmax\"))\n",
    "\n",
    "        self.compile(optimizer='adam', loss='categorical_crossentropy', metrics=['accuracy'])\n",
    " \n",
    "\n",
    "    def __tri_conv(self, filters):\n",
    "        self.add(Convolution2D(filters, kernel_size=(3,3), padding=\"valid\", activation=\"relu\"))\n",
    "        self.add(Convolution2D(filters, kernel_size=(3,3), padding=\"same\", activation=\"relu\"))\n",
    "        self.add(Convolution2D(filters, kernel_size=(3,3), padding=\"same\", activation=\"relu\"))\n",
    "        self.add(MaxPooling2D((2, 2), padding=\"same\"))\n",
    "        \n",
    "                 \n",
    "    def __qua_conv(self, filters):\n",
    "        self.add(Convolution2D(filters, kernel_size=(3,3), padding=\"same\", activation=\"relu\"))\n",
    "        self.add(Convolution2D(filters, kernel_size=(3,3), padding=\"same\", activation=\"relu\"))\n",
    "        self.add(Convolution2D(filters, kernel_size=(3,3), padding=\"same\", activation=\"relu\"))\n",
    "        self.add(Convolution2D(filters, kernel_size=(3,3), padding=\"same\", activation=\"relu\"))\n",
    "        self.add(MaxPooling2D((2, 2), padding=\"same\"))"
   ]
  },
  {
   "cell_type": "markdown",
   "metadata": {},
   "source": [
    "# AlexNet"
   ]
  },
  {
   "cell_type": "code",
   "execution_count": 3,
   "metadata": {
    "execution": {
     "iopub.execute_input": "2023-01-21T16:30:09.560920Z",
     "iopub.status.busy": "2023-01-21T16:30:09.560586Z",
     "iopub.status.idle": "2023-01-21T16:30:09.570115Z",
     "shell.execute_reply": "2023-01-21T16:30:09.569223Z",
     "shell.execute_reply.started": "2023-01-21T16:30:09.560896Z"
    }
   },
   "outputs": [],
   "source": [
    "class AlexNet(Sequential):\n",
    "    def __init__(self, input_shape, num_classes):\n",
    "        super().__init__()\n",
    "\n",
    "        self.add(Convolution2D(96, kernel_size = (11,11), strides = 4,\n",
    "                        padding = 'valid', activation = 'relu',\n",
    "                        input_shape = input_shape,\n",
    "                        kernel_initializer= 'he_normal'))\n",
    "\n",
    "        self.add(MaxPooling2D(pool_size=(3,3), strides= (2,2),\n",
    "                              padding= 'valid', data_format= None))\n",
    "\n",
    "        self.add(Convolution2D(256, kernel_size=(5,5), strides= 1,\n",
    "                        padding= 'same', activation= 'relu',\n",
    "                        kernel_initializer= 'he_normal'))\n",
    "                        \n",
    "        self.add(MaxPooling2D(pool_size=(3,3), strides= (2,2),\n",
    "                              padding= 'same', data_format= None)) \n",
    "\n",
    "        self.add(Convolution2D(384, kernel_size=(3,3), strides= 1,\n",
    "                        padding= 'same', activation= 'relu',\n",
    "                        kernel_initializer= 'he_normal'))\n",
    "\n",
    "        self.add(Convolution2D(384, kernel_size=(3,3), strides= 1,\n",
    "                        padding= 'same', activation= 'relu',\n",
    "                        kernel_initializer= 'he_normal'))\n",
    "\n",
    "        self.add(Convolution2D(256, kernel_size=(3,3), strides= 1,\n",
    "                        padding= 'same', activation= 'relu',\n",
    "                        kernel_initializer= 'he_normal'))\n",
    "\n",
    "        self.add(MaxPooling2D(pool_size=(3,3), strides= (2,2),\n",
    "                              padding= 'same', data_format= None))\n",
    "\n",
    "        self.add(Flatten())\n",
    "        self.add(Dense(4096, activation= 'relu'))\n",
    "        self.add(Dense(4096, activation= 'relu'))\n",
    "        self.add(Dense(1000, activation= 'relu'))\n",
    "        self.add(Dense(num_classes, activation= 'softmax'))\n",
    "\n",
    "        self.compile(optimizer= Adam(0.001),\n",
    "                    loss='categorical_crossentropy',\n",
    "                    metrics=['accuracy'])"
   ]
  },
  {
   "cell_type": "markdown",
   "metadata": {},
   "source": [
    "# SqueezeNet"
   ]
  },
  {
   "cell_type": "code",
   "execution_count": 31,
   "metadata": {
    "execution": {
     "iopub.execute_input": "2023-01-21T13:50:43.629888Z",
     "iopub.status.busy": "2023-01-21T13:50:43.628949Z",
     "iopub.status.idle": "2023-01-21T13:50:43.643073Z",
     "shell.execute_reply": "2023-01-21T13:50:43.641415Z",
     "shell.execute_reply.started": "2023-01-21T13:50:43.629844Z"
    }
   },
   "outputs": [],
   "source": [
    "class SqueezeNet():\n",
    "    def __init__(self, input_shape, num_classes):\n",
    "\n",
    "        InputImages = Input(shape=input_shape)\n",
    "\n",
    "        conv1 = Convolution2D(96, (7, 7), activation='relu')(InputImages)\n",
    "        maxpool1 = MaxPooling2D(pool_size=(3, 3), strides=(2, 2))(conv1)\n",
    "\n",
    "        fire2 = self.__fire(maxpool1, squeeze=16, expand=64)\n",
    "        fire3 = self.__fire(fire2, squeeze=16, expand=64)\n",
    "        fire4 = self.__fire(fire3, squeeze=32, expand=128)\n",
    "\n",
    "        maxpool4 = MaxPooling2D(pool_size=(3, 3), strides=(2, 2))(fire4)\n",
    "\n",
    "        fire5 = self.__fire(maxpool4, squeeze=32, expand=128)\n",
    "        fire6 = self.__fire(fire5, squeeze=32, expand=128)\n",
    "        fire7 = self.__fire(fire6, squeeze=48, expand=192)\n",
    "        fire8 = self.__fire(fire7, squeeze=64, expand=256)\n",
    "\n",
    "        maxpool8 = MaxPooling2D(pool_size=(3, 3), strides=(2, 2))(fire8)\n",
    "\n",
    "        fire9 = self.__fire(maxpool8, squeeze=64, expand=256)\n",
    "        fire9_dropout = Dropout(0.5)(fire9)\n",
    "\n",
    "        conv10 = Convolution2D(10, (1,1), activation='relu', padding='same')(fire9_dropout)\n",
    "        avg_pooling10 = AveragePooling2D(padding='same')(conv10)\n",
    "        flatten = Flatten()(avg_pooling10)\n",
    "        dense = Dense(num_classes, activation=\"softmax\")(flatten)\n",
    "\n",
    "        squeezeNet_model = Model(inputs=InputImages, outputs=dense)\n",
    "        squeezeNet_model.compile(optimizer=\"adam\", loss=\"categorical_crossentropy\", metrics=[\"accuracy\"])\n",
    "        self.model = squeezeNet_model\n",
    "        \n",
    "        \n",
    "    \n",
    "    @staticmethod\n",
    "    def __fire(X, squeeze=16, expand=64):\n",
    "        fire_squeeze = Convolution2D(squeeze, (1,1), activation='relu', padding='same')(X)\n",
    "        fire_expand1 = Convolution2D(expand, (1,1), activation='relu', padding='same')(fire_squeeze)\n",
    "        fire_expand2 = Convolution2D(expand, (3,3), activation='relu', padding='same')(fire_squeeze)\n",
    "        merge = Add()([fire_expand1, fire_expand2])\n",
    "        return merge"
   ]
  },
  {
   "cell_type": "markdown",
   "metadata": {},
   "source": [
    "# ResNet"
   ]
  },
  {
   "cell_type": "code",
   "execution_count": 20,
   "metadata": {
    "execution": {
     "iopub.execute_input": "2023-01-21T13:42:54.840779Z",
     "iopub.status.busy": "2023-01-21T13:42:54.840530Z",
     "iopub.status.idle": "2023-01-21T13:42:54.856145Z",
     "shell.execute_reply": "2023-01-21T13:42:54.854906Z",
     "shell.execute_reply.started": "2023-01-21T13:42:54.840752Z"
    }
   },
   "outputs": [],
   "source": [
    "class ResNet():\n",
    "    def __init__(self, input_shape, num_classes):\n",
    "        \n",
    "        InputImages = Input(shape=input_shape)\n",
    "        zeroPad1 = ZeroPadding2D((1,1), data_format=\"channels_first\")\n",
    "        zeroPad1_2 = ZeroPadding2D((1,1), data_format=\"channels_first\")\n",
    "        \n",
    "        layer1 = Convolution2D(6, (3, 3), strides=(2, 2), kernel_initializer='he_uniform', data_format=\"channels_first\")\n",
    "        layer1_2 = Convolution2D(16, (3, 3), strides=(2, 2), kernel_initializer='he_uniform', data_format=\"channels_first\")\n",
    "        zeroPad2 = ZeroPadding2D((1,1), data_format=\"channels_first\")\n",
    "        zeroPad2_2 = ZeroPadding2D((1,1), data_format=\"channels_first\")\n",
    "        \n",
    "        layer2 = Convolution2D(6, (3, 3), strides=(1,1), kernel_initializer='he_uniform', data_format=\"channels_first\")\n",
    "        layer2_2 = Convolution2D(16, (3, 3), strides=(1,1), kernel_initializer='he_uniform', data_format=\"channels_first\")\n",
    "        zeroPad3 = ZeroPadding2D((1,1), data_format=\"channels_first\")\n",
    "        zeroPad3_2 = ZeroPadding2D((1,1), data_format=\"channels_first\")\n",
    "        \n",
    "        layer3 = Convolution2D(6, (3, 3), strides=(1, 1), kernel_initializer='he_uniform', data_format=\"channels_first\")\n",
    "        layer3_2 = Convolution2D(16, (3, 3), strides=(1, 1), kernel_initializer='he_uniform', data_format=\"channels_first\")\n",
    "        layer4 = Dense(64, activation='relu', kernel_initializer='he_uniform')\n",
    "        layer5 = Dense(16, activation='relu', kernel_initializer='he_uniform')\n",
    "        final = Dense(num_classes, activation='softmax', kernel_initializer='he_uniform')\n",
    "        \n",
    "        first = zeroPad1(InputImages)\n",
    "        second = layer1(first)\n",
    "        second = BatchNormalization(axis=1)(second)\n",
    "        second = Activation('relu')(second)\n",
    "\n",
    "        third = zeroPad2(second)\n",
    "        third = layer2(third)\n",
    "        third = BatchNormalization(axis=1)(third)\n",
    "        third = Activation('relu')(third)\n",
    "\n",
    "        third = zeroPad3(third)\n",
    "        third = layer3(third)\n",
    "        third = BatchNormalization(axis=1)(third)\n",
    "        third = Activation('relu')(third)\n",
    "        \n",
    "        res = Add()([third, second])\n",
    "\n",
    "\n",
    "        first2 = zeroPad1_2(res)\n",
    "        second2 = layer1_2(first2)\n",
    "        second2 = BatchNormalization(axis=1)(second2)\n",
    "        second2 = Activation('relu')(second2)\n",
    "\n",
    "\n",
    "        third2 = zeroPad2_2(second2)\n",
    "        third2 = layer2_2(third2)\n",
    "        third2 = BatchNormalization(axis=1)(third2)\n",
    "        third2 = Activation('relu')(third2)\n",
    "\n",
    "        third2 = zeroPad3_2(third2)\n",
    "        third2 = layer3_2(third2)\n",
    "        third2 = BatchNormalization(axis=1)(third2)\n",
    "        third2 = Activation('relu')(third2)\n",
    "        \n",
    "        res2 = Add()([third2, second2])\n",
    "\n",
    "        res2 = Flatten()(res2)\n",
    "\n",
    "        res2 = layer4(res2)\n",
    "        res2 = Dropout(0.4)(res2)\n",
    "        res2 = layer5(res2)\n",
    "        res2 = Dropout(0.4)(res2)\n",
    "        res2 = final(res2)\n",
    "        model = Model(inputs=InputImages, outputs=res2)\n",
    "\n",
    "        sgd = SGD(decay=0., learning_rate=0.01, momentum=0.9, nesterov=True)\n",
    "        model.compile(loss=\"categorical_crossentropy\", optimizer=\"adam\", metrics=['accuracy'])\n",
    "        self.model = model"
   ]
  },
  {
   "cell_type": "markdown",
   "metadata": {},
   "source": [
    "# GoogleLeNet"
   ]
  },
  {
   "cell_type": "code",
   "execution_count": 14,
   "metadata": {
    "execution": {
     "iopub.execute_input": "2023-01-20T23:17:04.424044Z",
     "iopub.status.busy": "2023-01-20T23:17:04.422926Z",
     "iopub.status.idle": "2023-01-20T23:17:04.505115Z",
     "shell.execute_reply": "2023-01-20T23:17:04.503706Z",
     "shell.execute_reply.started": "2023-01-20T23:17:04.423982Z"
    },
    "jupyter": {
     "source_hidden": true
    }
   },
   "outputs": [],
   "source": [
    "class GoogleLeNet():\n",
    "    def __init__(self, input_shape, num_classes):\n",
    "        InputImages = Input(shape=input_shape)\n",
    "\n",
    "        input_pad = ZeroPadding2D(padding=(3, 3))(InputImages)\n",
    "        conv1_7x7_s2 = Convolution2D(64, (7,7), strides=(2,2), padding='valid', activation='relu', name='conv1/7x7_s2', kernel_regularizer=l2(0.0002))(input_pad)\n",
    "        conv1_zero_pad = ZeroPadding2D(padding=(1, 1))(conv1_7x7_s2)\n",
    "        pool1_helper = PoolHelper()(conv1_zero_pad)\n",
    "        pool1_3x3_s2 = MaxPooling2D(pool_size=(3,3), strides=(2,2), padding='valid', name='pool1/3x3_s2')(pool1_helper)\n",
    "        pool1_norm1 = LRN(name='pool1/norm1')(pool1_3x3_s2)\n",
    "\n",
    "        conv2_3x3_reduce = Convolution2D(64, (1,1), padding='same', activation='relu', name='conv2/3x3_reduce', kernel_regularizer=l2(0.0002))(pool1_norm1)\n",
    "        conv2_3x3 = Convolution2D(192, (3,3), padding='same', activation='relu', name='conv2/3x3', kernel_regularizer=l2(0.0002))(conv2_3x3_reduce)\n",
    "        conv2_norm2 = LRN(name='conv2/norm2')(conv2_3x3)\n",
    "        conv2_zero_pad = ZeroPadding2D(padding=(1, 1))(conv2_norm2)\n",
    "        pool2_helper = PoolHelper()(conv2_zero_pad)\n",
    "        pool2_3x3_s2 = MaxPooling2D(pool_size=(3,3), strides=(2,2), padding='valid', name='pool2/3x3_s2')(pool2_helper)\n",
    "\n",
    "        inception_3a_1x1 = Convolution2D(64, (1,1), padding='same', activation='relu', name='inception_3a/1x1', kernel_regularizer=l2(0.0002))(pool2_3x3_s2)\n",
    "        inception_3a_3x3_reduce = Convolution2D(96, (1,1), padding='same', activation='relu', name='inception_3a/3x3_reduce', kernel_regularizer=l2(0.0002))(pool2_3x3_s2)\n",
    "        inception_3a_3x3_pad = ZeroPadding2D(padding=(1, 1))(inception_3a_3x3_reduce)\n",
    "        inception_3a_3x3 = Convolution2D(128, (3,3), padding='valid', activation='relu', name='inception_3a/3x3', kernel_regularizer=l2(0.0002))(inception_3a_3x3_pad)\n",
    "        inception_3a_5x5_reduce = Convolution2D(16, (1,1), padding='same', activation='relu', name='inception_3a/5x5_reduce', kernel_regularizer=l2(0.0002))(pool2_3x3_s2)\n",
    "        inception_3a_5x5_pad = ZeroPadding2D(padding=(2, 2))(inception_3a_5x5_reduce)\n",
    "        inception_3a_5x5 = Convolution2D(32, (5,5), padding='valid', activation='relu', name='inception_3a/5x5', kernel_regularizer=l2(0.0002))(inception_3a_5x5_pad)\n",
    "        inception_3a_pool = MaxPooling2D(pool_size=(3,3), strides=(1,1), padding='same', name='inception_3a/pool')(pool2_3x3_s2)\n",
    "        inception_3a_pool_proj = Convolution2D(32, (1,1), padding='same', activation='relu', name='inception_3a/pool_proj', kernel_regularizer=l2(0.0002))(inception_3a_pool)\n",
    "        inception_3a_output = Concatenate(axis=2, name='inception_3a/output')([inception_3a_1x1,inception_3a_3x3,inception_3a_5x5,inception_3a_pool_proj])\n",
    "\n",
    "        inception_3b_1x1 = Convolution2D(128, (1,1), padding='same', activation='relu', name='inception_3b/1x1', kernel_regularizer=l2(0.0002))(inception_3a_output)\n",
    "        inception_3b_3x3_reduce = Convolution2D(128, (1,1), padding='same', activation='relu', name='inception_3b/3x3_reduce', kernel_regularizer=l2(0.0002))(inception_3a_output)\n",
    "        inception_3b_3x3_pad = ZeroPadding2D(padding=(1, 1))(inception_3b_3x3_reduce)\n",
    "        inception_3b_3x3 = Convolution2D(192, (3,3), padding='valid', activation='relu', name='inception_3b/3x3', kernel_regularizer=l2(0.0002))(inception_3b_3x3_pad)\n",
    "        inception_3b_5x5_reduce = Convolution2D(32, (1,1), padding='same', activation='relu', name='inception_3b/5x5_reduce', kernel_regularizer=l2(0.0002))(inception_3a_output)\n",
    "        inception_3b_5x5_pad = ZeroPadding2D(padding=(2, 2))(inception_3b_5x5_reduce)\n",
    "        inception_3b_5x5 = Convolution2D(96, (5,5), padding='valid', activation='relu', name='inception_3b/5x5', kernel_regularizer=l2(0.0002))(inception_3b_5x5_pad)\n",
    "        inception_3b_pool = MaxPooling2D(pool_size=(3,3), strides=(1,1), padding='same', name='inception_3b/pool')(inception_3a_output)\n",
    "        inception_3b_pool_proj = Convolution2D(64, (1,1), padding='same', activation='relu', name='inception_3b/pool_proj', kernel_regularizer=l2(0.0002))(inception_3b_pool)\n",
    "        inception_3b_output = Concatenate(axis=1, name='inception_3b/output')([inception_3b_1x1,inception_3b_3x3,inception_3b_5x5,inception_3b_pool_proj])\n",
    "        \n",
    "        inception_3b_output_zero_pad = ZeroPadding2D(padding=(1, 1))(inception_3b_output)\n",
    "        pool3_helper = PoolHelper()(inception_3b_output_zero_pad)\n",
    "        pool3_3x3_s2 = MaxPooling2D(pool_size=(3,3), strides=(2,2), padding='valid', name='pool3/3x3_s2')(pool3_helper)\n",
    "\n",
    "        inception_4a_1x1 = Convolution2D(192, (1,1), padding='same', activation='relu', name='inception_4a/1x1', kernel_regularizer=l2(0.0002))(pool3_3x3_s2)\n",
    "        inception_4a_3x3_reduce = Convolution2D(96, (1,1), padding='same', activation='relu', name='inception_4a/3x3_reduce', kernel_regularizer=l2(0.0002))(pool3_3x3_s2)\n",
    "        inception_4a_3x3_pad = ZeroPadding2D(padding=(1, 1))(inception_4a_3x3_reduce)\n",
    "        inception_4a_3x3 = Convolution2D(208, (3,3), padding='valid', activation='relu', name='inception_4a/3x3' ,kernel_regularizer=l2(0.0002))(inception_4a_3x3_pad)\n",
    "        inception_4a_5x5_reduce = Convolution2D(16, (1,1), padding='same', activation='relu', name='inception_4a/5x5_reduce', kernel_regularizer=l2(0.0002))(pool3_3x3_s2)\n",
    "        inception_4a_5x5_pad = ZeroPadding2D(padding=(2, 2))(inception_4a_5x5_reduce)\n",
    "        inception_4a_5x5 = Convolution2D(48, (5,5), padding='valid', activation='relu', name='inception_4a/5x5', kernel_regularizer=l2(0.0002))(inception_4a_5x5_pad)\n",
    "        inception_4a_pool = MaxPooling2D(pool_size=(3,3), strides=(1,1), padding='same', name='inception_4a/pool')(pool3_3x3_s2)\n",
    "        inception_4a_pool_proj = Convolution2D(64, (1,1), padding='same', activation='relu', name='inception_4a/pool_proj', kernel_regularizer=l2(0.0002))(inception_4a_pool)\n",
    "        inception_4a_output = Concatenate(axis=1, name='inception_4a/output')([inception_4a_1x1,inception_4a_3x3,inception_4a_5x5,inception_4a_pool_proj])\n",
    "\n",
    "        loss1_ave_pool = AveragePooling2D(pool_size=(5,5), strides=(3,3), name='loss1/ave_pool')(inception_4a_output)\n",
    "        loss1_conv = Convolution2D(128, (1,1), padding='same', activation='relu', name='loss1/conv', kernel_regularizer=l2(0.0002))(loss1_ave_pool)\n",
    "        loss1_flat = Flatten()(loss1_conv)\n",
    "        loss1_fc = Dense(1024, activation='relu', name='loss1/fc', kernel_regularizer=l2(0.0002))(loss1_flat)\n",
    "        loss1_drop_fc = Dropout(rate=0.7)(loss1_fc)\n",
    "        loss1_classifier = Dense(1000, name='loss1/classifier', kernel_regularizer=l2(0.0002))(loss1_drop_fc)\n",
    "        loss1_classifier_act = Activation('softmax')(loss1_classifier)\n",
    "\n",
    "        inception_4b_1x1 = Convolution2D(160, (1,1), padding='same', activation='relu', name='inception_4b/1x1', kernel_regularizer=l2(0.0002))(inception_4a_output)\n",
    "        inception_4b_3x3_reduce = Convolution2D(112, (1,1), padding='same', activation='relu', name='inception_4b/3x3_reduce', kernel_regularizer=l2(0.0002))(inception_4a_output)\n",
    "        inception_4b_3x3_pad = ZeroPadding2D(padding=(1, 1))(inception_4b_3x3_reduce)\n",
    "        inception_4b_3x3 = Convolution2D(224, (3,3), padding='valid', activation='relu', name='inception_4b/3x3', kernel_regularizer=l2(0.0002))(inception_4b_3x3_pad)\n",
    "        inception_4b_5x5_reduce = Convolution2D(24, (1,1), padding='same', activation='relu', name='inception_4b/5x5_reduce', kernel_regularizer=l2(0.0002))(inception_4a_output)\n",
    "        inception_4b_5x5_pad = ZeroPadding2D(padding=(2, 2))(inception_4b_5x5_reduce)\n",
    "        inception_4b_5x5 = Convolution2D(64, (5,5), padding='valid', activation='relu', name='inception_4b/5x5', kernel_regularizer=l2(0.0002))(inception_4b_5x5_pad)\n",
    "        inception_4b_pool = MaxPooling2D(pool_size=(3,3), strides=(1,1), padding='same', name='inception_4b/pool')(inception_4a_output)\n",
    "        inception_4b_pool_proj = Convolution2D(64, (1,1), padding='same', activation='relu', name='inception_4b/pool_proj', kernel_regularizer=l2(0.0002))(inception_4b_pool)\n",
    "        inception_4b_output = Concatenate(axis=1, name='inception_4b/output')([inception_4b_1x1,inception_4b_3x3,inception_4b_5x5,inception_4b_pool_proj])\n",
    "\n",
    "        inception_4c_1x1 = Convolution2D(128, (1,1), padding='same', activation='relu', name='inception_4c/1x1', kernel_regularizer=l2(0.0002))(inception_4b_output)\n",
    "        inception_4c_3x3_reduce = Convolution2D(128, (1,1), padding='same', activation='relu', name='inception_4c/3x3_reduce', kernel_regularizer=l2(0.0002))(inception_4b_output)\n",
    "        inception_4c_3x3_pad = ZeroPadding2D(padding=(1, 1))(inception_4c_3x3_reduce)\n",
    "        inception_4c_3x3 = Convolution2D(256, (3,3), padding='valid', activation='relu', name='inception_4c/3x3', kernel_regularizer=l2(0.0002))(inception_4c_3x3_pad)\n",
    "        inception_4c_5x5_reduce = Convolution2D(24, (1,1), padding='same', activation='relu', name='inception_4c/5x5_reduce', kernel_regularizer=l2(0.0002))(inception_4b_output)\n",
    "        inception_4c_5x5_pad = ZeroPadding2D(padding=(2, 2))(inception_4c_5x5_reduce)\n",
    "        inception_4c_5x5 = Convolution2D(64, (5,5), padding='valid', activation='relu', name='inception_4c/5x5', kernel_regularizer=l2(0.0002))(inception_4c_5x5_pad)\n",
    "        inception_4c_pool = MaxPooling2D(pool_size=(3,3), strides=(1,1), padding='same', name='inception_4c/pool')(inception_4b_output)\n",
    "        inception_4c_pool_proj = Convolution2D(64, (1,1), padding='same', activation='relu', name='inception_4c/pool_proj', kernel_regularizer=l2(0.0002))(inception_4c_pool)\n",
    "        inception_4c_output = Concatenate(axis=1, name='inception_4c/output')([inception_4c_1x1,inception_4c_3x3,inception_4c_5x5,inception_4c_pool_proj])\n",
    "\n",
    "        inception_4d_1x1 = Convolution2D(112, (1,1), padding='same', activation='relu', name='inception_4d/1x1', kernel_regularizer=l2(0.0002))(inception_4c_output)\n",
    "        inception_4d_3x3_reduce = Convolution2D(144, (1,1), padding='same', activation='relu', name='inception_4d/3x3_reduce', kernel_regularizer=l2(0.0002))(inception_4c_output)\n",
    "        inception_4d_3x3_pad = ZeroPadding2D(padding=(1, 1))(inception_4d_3x3_reduce)\n",
    "        inception_4d_3x3 = Convolution2D(288, (3,3), padding='valid', activation='relu', name='inception_4d/3x3', kernel_regularizer=l2(0.0002))(inception_4d_3x3_pad)\n",
    "        inception_4d_5x5_reduce = Convolution2D(32, (1,1), padding='same', activation='relu', name='inception_4d/5x5_reduce', kernel_regularizer=l2(0.0002))(inception_4c_output)\n",
    "        inception_4d_5x5_pad = ZeroPadding2D(padding=(2, 2))(inception_4d_5x5_reduce)\n",
    "        inception_4d_5x5 = Convolution2D(64, (5,5), padding='valid', activation='relu', name='inception_4d/5x5', kernel_regularizer=l2(0.0002))(inception_4d_5x5_pad)\n",
    "        inception_4d_pool = MaxPooling2D(pool_size=(3,3), strides=(1,1), padding='same', name='inception_4d/pool')(inception_4c_output)\n",
    "        inception_4d_pool_proj = Convolution2D(64, (1,1), padding='same', activation='relu', name='inception_4d/pool_proj', kernel_regularizer=l2(0.0002))(inception_4d_pool)\n",
    "        inception_4d_output = Concatenate(axis=1, name='inception_4d/output')([inception_4d_1x1,inception_4d_3x3,inception_4d_5x5,inception_4d_pool_proj])\n",
    "\n",
    "        loss2_ave_pool = AveragePooling2D(pool_size=(5,5), strides=(3,3), name='loss2/ave_pool')(inception_4d_output)\n",
    "        loss2_conv = Convolution2D(128, (1,1), padding='same', activation='relu', name='loss2/conv', kernel_regularizer=l2(0.0002))(loss2_ave_pool)\n",
    "        loss2_flat = Flatten()(loss2_conv)\n",
    "        loss2_fc = Dense(1024, activation='relu', name='loss2/fc', kernel_regularizer=l2(0.0002))(loss2_flat)\n",
    "        loss2_drop_fc = Dropout(rate=0.7)(loss2_fc)\n",
    "        loss2_classifier = Dense(1000, name='loss2/classifier', kernel_regularizer=l2(0.0002))(loss2_drop_fc)\n",
    "        loss2_classifier_act = Activation('softmax')(loss2_classifier)\n",
    "\n",
    "        inception_4e_1x1 = Convolution2D(256, (1,1), padding='same', activation='relu', name='inception_4e/1x1', kernel_regularizer=l2(0.0002))(inception_4d_output)\n",
    "        inception_4e_3x3_reduce = Convolution2D(160, (1,1), padding='same', activation='relu', name='inception_4e/3x3_reduce', kernel_regularizer=l2(0.0002))(inception_4d_output)\n",
    "        inception_4e_3x3_pad = ZeroPadding2D(padding=(1, 1))(inception_4e_3x3_reduce)\n",
    "        inception_4e_3x3 = Convolution2D(320, (3,3), padding='valid', activation='relu', name='inception_4e/3x3', kernel_regularizer=l2(0.0002))(inception_4e_3x3_pad)\n",
    "        inception_4e_5x5_reduce = Convolution2D(32, (1,1), padding='same', activation='relu', name='inception_4e/5x5_reduce', kernel_regularizer=l2(0.0002))(inception_4d_output)\n",
    "        inception_4e_5x5_pad = ZeroPadding2D(padding=(2, 2))(inception_4e_5x5_reduce)\n",
    "        inception_4e_5x5 = Convolution2D(128, (5,5), padding='valid', activation='relu', name='inception_4e/5x5', kernel_regularizer=l2(0.0002))(inception_4e_5x5_pad)\n",
    "        inception_4e_pool = MaxPooling2D(pool_size=(3,3), strides=(1,1), padding='same', name='inception_4e/pool')(inception_4d_output)\n",
    "        inception_4e_pool_proj = Convolution2D(128, (1,1), padding='same', activation='relu', name='inception_4e/pool_proj', kernel_regularizer=l2(0.0002))(inception_4e_pool)\n",
    "        inception_4e_output = Concatenate(axis=1, name='inception_4e/output')([inception_4e_1x1,inception_4e_3x3,inception_4e_5x5,inception_4e_pool_proj])\n",
    "\n",
    "        inception_4e_output_zero_pad = ZeroPadding2D(padding=(1, 1))(inception_4e_output)\n",
    "        pool4_helper = PoolHelper()(inception_4e_output_zero_pad)\n",
    "        pool4_3x3_s2 = MaxPooling2D(pool_size=(3,3), strides=(2,2), padding='valid', name='pool4/3x3_s2')(pool4_helper)\n",
    "\n",
    "        inception_5a_1x1 = Convolution2D(256, (1,1), padding='same', activation='relu', name='inception_5a/1x1', kernel_regularizer=l2(0.0002))(pool4_3x3_s2)\n",
    "        inception_5a_3x3_reduce = Convolution2D(160, (1,1), padding='same', activation='relu', name='inception_5a/3x3_reduce', kernel_regularizer=l2(0.0002))(pool4_3x3_s2)\n",
    "        inception_5a_3x3_pad = ZeroPadding2D(padding=(1, 1))(inception_5a_3x3_reduce)\n",
    "        inception_5a_3x3 = Convolution2D(320, (3,3), padding='valid', activation='relu', name='inception_5a/3x3', kernel_regularizer=l2(0.0002))(inception_5a_3x3_pad)\n",
    "        inception_5a_5x5_reduce = Convolution2D(32, (1,1), padding='same', activation='relu', name='inception_5a/5x5_reduce', kernel_regularizer=l2(0.0002))(pool4_3x3_s2)\n",
    "        inception_5a_5x5_pad = ZeroPadding2D(padding=(2, 2))(inception_5a_5x5_reduce)\n",
    "        inception_5a_5x5 = Convolution2D(128, (5,5), padding='valid', activation='relu', name='inception_5a/5x5', kernel_regularizer=l2(0.0002))(inception_5a_5x5_pad)\n",
    "        inception_5a_pool = MaxPooling2D(pool_size=(3,3), strides=(1,1), padding='same', name='inception_5a/pool')(pool4_3x3_s2)\n",
    "        inception_5a_pool_proj = Convolution2D(128, (1,1), padding='same', activation='relu', name='inception_5a/pool_proj', kernel_regularizer=l2(0.0002))(inception_5a_pool)\n",
    "        inception_5a_output = Concatenate(axis=1, name='inception_5a/output')([inception_5a_1x1,inception_5a_3x3,inception_5a_5x5,inception_5a_pool_proj])\n",
    "\n",
    "        inception_5b_1x1 = Convolution2D(384, (1,1), padding='same', activation='relu', name='inception_5b/1x1', kernel_regularizer=l2(0.0002))(inception_5a_output)\n",
    "        inception_5b_3x3_reduce = Convolution2D(192, (1,1), padding='same', activation='relu', name='inception_5b/3x3_reduce', kernel_regularizer=l2(0.0002))(inception_5a_output)\n",
    "        inception_5b_3x3_pad = ZeroPadding2D(padding=(1, 1))(inception_5b_3x3_reduce)\n",
    "        inception_5b_3x3 = Convolution2D(384, (3,3), padding='valid', activation='relu', name='inception_5b/3x3', kernel_regularizer=l2(0.0002))(inception_5b_3x3_pad)\n",
    "        inception_5b_5x5_reduce = Convolution2D(48, (1,1), padding='same', activation='relu', name='inception_5b/5x5_reduce', kernel_regularizer=l2(0.0002))(inception_5a_output)\n",
    "        inception_5b_5x5_pad = ZeroPadding2D(padding=(2, 2))(inception_5b_5x5_reduce)\n",
    "        inception_5b_5x5 = Convolution2D(128, (5,5), padding='valid', activation='relu', name='inception_5b/5x5', kernel_regularizer=l2(0.0002))(inception_5b_5x5_pad)\n",
    "        inception_5b_pool = MaxPooling2D(pool_size=(3,3), strides=(1,1), padding='same', name='inception_5b/pool')(inception_5a_output)\n",
    "        inception_5b_pool_proj = Convolution2D(128, (1,1), padding='same', activation='relu', name='inception_5b/pool_proj', kernel_regularizer=l2(0.0002))(inception_5b_pool)\n",
    "        inception_5b_output = Concatenate(axis=1, name='inception_5b/output')([inception_5b_1x1,inception_5b_3x3,inception_5b_5x5,inception_5b_pool_proj])\n",
    "\n",
    "        pool5_7x7_s1 = AveragePooling2D(pool_size=(7,7), strides=(1,1), name='pool5/7x7_s2')(inception_5b_output)\n",
    "        loss3_flat = Flatten()(pool5_7x7_s1)\n",
    "        pool5_drop_7x7_s1 = Dropout(rate=0.4)(loss3_flat)\n",
    "        loss3_classifier = Dense(1000, name='loss3/classifier', kernel_regularizer=l2(0.0002))(pool5_drop_7x7_s1)\n",
    "        loss3_classifier_act = Activation('softmax', name='prob')(loss3_classifier)\n",
    "        final = Dense(num_classes, activation='softmax', kernel_initializer='he_uniform')(loss3_classifier_act)\n",
    "\n",
    "        model = Model(inputs=InputImages, outputs=final)\n",
    "        sgd = SGD(lr=0.1, decay=1e-6, momentum=0.9, nesterov=True)\n",
    "        model.compile(optimizer=sgd, loss='categorical_crossentropy', metrics=['accuracy'])\n",
    "        \n",
    "        self.model = model"
   ]
  },
  {
   "cell_type": "markdown",
   "metadata": {},
   "source": [
    "# Tests"
   ]
  },
  {
   "cell_type": "markdown",
   "metadata": {
    "execution": {
     "iopub.execute_input": "2023-01-21T10:59:05.991776Z",
     "iopub.status.busy": "2023-01-21T10:59:05.991303Z",
     "iopub.status.idle": "2023-01-21T10:59:05.998955Z",
     "shell.execute_reply": "2023-01-21T10:59:05.996387Z",
     "shell.execute_reply.started": "2023-01-21T10:59:05.991776Z"
    }
   },
   "source": [
    "## Preporcessing steps for MNIST"
   ]
  },
  {
   "cell_type": "code",
   "execution_count": 8,
   "metadata": {
    "execution": {
     "iopub.execute_input": "2023-01-21T16:42:37.069595Z",
     "iopub.status.busy": "2023-01-21T16:42:37.069190Z",
     "iopub.status.idle": "2023-01-21T16:42:37.360615Z",
     "shell.execute_reply": "2023-01-21T16:42:37.359639Z",
     "shell.execute_reply.started": "2023-01-21T16:42:37.069567Z"
    }
   },
   "outputs": [],
   "source": [
    "(X_train, y_train), (X_test, y_test) = mnist.load_data()"
   ]
  },
  {
   "cell_type": "code",
   "execution_count": 9,
   "metadata": {
    "execution": {
     "iopub.execute_input": "2023-01-21T16:42:38.459303Z",
     "iopub.status.busy": "2023-01-21T16:42:38.458962Z",
     "iopub.status.idle": "2023-01-21T16:42:38.465044Z",
     "shell.execute_reply": "2023-01-21T16:42:38.463761Z",
     "shell.execute_reply.started": "2023-01-21T16:42:38.459279Z"
    }
   },
   "outputs": [],
   "source": [
    "#reshape data to fit model\n",
    "X_train = X_train.reshape(60000,28,28,1)\n",
    "X_test = X_test.reshape(10000,28,28,1)"
   ]
  },
  {
   "cell_type": "code",
   "execution_count": 10,
   "metadata": {
    "execution": {
     "iopub.execute_input": "2023-01-21T16:42:39.558140Z",
     "iopub.status.busy": "2023-01-21T16:42:39.557739Z",
     "iopub.status.idle": "2023-01-21T16:42:39.566049Z",
     "shell.execute_reply": "2023-01-21T16:42:39.565211Z",
     "shell.execute_reply.started": "2023-01-21T16:42:39.558116Z"
    }
   },
   "outputs": [],
   "source": [
    "#one-hot encode target column\n",
    "y_train = to_categorical(y_train)\n",
    "y_test = to_categorical(y_test)"
   ]
  },
  {
   "cell_type": "code",
   "execution_count": 11,
   "metadata": {
    "execution": {
     "iopub.execute_input": "2023-01-21T16:42:40.577617Z",
     "iopub.status.busy": "2023-01-21T16:42:40.576977Z",
     "iopub.status.idle": "2023-01-21T16:42:40.594849Z",
     "shell.execute_reply": "2023-01-21T16:42:40.593902Z",
     "shell.execute_reply.started": "2023-01-21T16:42:40.577617Z"
    }
   },
   "outputs": [
    {
     "ename": "NameError",
     "evalue": "name 'SimpleCNN' is not defined",
     "output_type": "error",
     "traceback": [
      "\u001b[0;31m---------------------------------------------------------------------------\u001b[0m",
      "\u001b[0;31mNameError\u001b[0m                                 Traceback (most recent call last)",
      "Input \u001b[0;32mIn [11]\u001b[0m, in \u001b[0;36m<cell line: 1>\u001b[0;34m()\u001b[0m\n\u001b[0;32m----> 1\u001b[0m model_simple \u001b[38;5;241m=\u001b[39m \u001b[43mSimpleCNN\u001b[49m(input_shape\u001b[38;5;241m=\u001b[39m(\u001b[38;5;241m28\u001b[39m,\u001b[38;5;241m28\u001b[39m,\u001b[38;5;241m1\u001b[39m), num_classes\u001b[38;5;241m=\u001b[39m\u001b[38;5;241m10\u001b[39m)\n",
      "\u001b[0;31mNameError\u001b[0m: name 'SimpleCNN' is not defined"
     ]
    }
   ],
   "source": [
    "model_simple = SimpleCNN(input_shape=(28,28,1), num_classes=10)"
   ]
  },
  {
   "cell_type": "markdown",
   "metadata": {},
   "source": [
    "### Test simple"
   ]
  },
  {
   "cell_type": "code",
   "execution_count": 26,
   "metadata": {
    "execution": {
     "iopub.execute_input": "2023-01-21T13:48:17.113049Z",
     "iopub.status.busy": "2023-01-21T13:48:17.112658Z",
     "iopub.status.idle": "2023-01-21T13:49:48.821649Z",
     "shell.execute_reply": "2023-01-21T13:49:48.820641Z",
     "shell.execute_reply.started": "2023-01-21T13:48:17.113019Z"
    }
   },
   "outputs": [
    {
     "name": "stdout",
     "output_type": "stream",
     "text": [
      "Epoch 1/10\n",
      "1875/1875 [==============================] - 14s 5ms/step - loss: 0.4512 - accuracy: 0.9474 - val_loss: 0.1007 - val_accuracy: 0.9702\n",
      "Epoch 2/10\n",
      "1875/1875 [==============================] - 9s 5ms/step - loss: 0.0664 - accuracy: 0.9801 - val_loss: 0.0992 - val_accuracy: 0.9737\n",
      "Epoch 3/10\n",
      "1875/1875 [==============================] - 8s 4ms/step - loss: 0.0480 - accuracy: 0.9855 - val_loss: 0.0975 - val_accuracy: 0.9756\n",
      "Epoch 4/10\n",
      "1875/1875 [==============================] - 9s 5ms/step - loss: 0.0399 - accuracy: 0.9880 - val_loss: 0.0964 - val_accuracy: 0.9767\n",
      "Epoch 5/10\n",
      "1875/1875 [==============================] - 9s 5ms/step - loss: 0.0298 - accuracy: 0.9908 - val_loss: 0.1159 - val_accuracy: 0.9756\n",
      "Epoch 6/10\n",
      "1875/1875 [==============================] - 9s 5ms/step - loss: 0.0271 - accuracy: 0.9921 - val_loss: 0.1157 - val_accuracy: 0.9798\n",
      "Epoch 7/10\n",
      "1875/1875 [==============================] - 8s 4ms/step - loss: 0.0229 - accuracy: 0.9936 - val_loss: 0.1619 - val_accuracy: 0.9741\n",
      "Epoch 8/10\n",
      "1875/1875 [==============================] - 9s 5ms/step - loss: 0.0196 - accuracy: 0.9945 - val_loss: 0.1758 - val_accuracy: 0.9741\n",
      "Epoch 9/10\n",
      "1875/1875 [==============================] - 9s 5ms/step - loss: 0.0188 - accuracy: 0.9953 - val_loss: 0.1340 - val_accuracy: 0.9785\n",
      "Epoch 10/10\n",
      "1875/1875 [==============================] - 9s 5ms/step - loss: 0.0170 - accuracy: 0.9957 - val_loss: 0.1558 - val_accuracy: 0.9788\n"
     ]
    },
    {
     "data": {
      "text/plain": [
       "<keras.callbacks.History at 0x7fdeac15dc70>"
      ]
     },
     "execution_count": 26,
     "metadata": {},
     "output_type": "execute_result"
    }
   ],
   "source": [
    "model_simple.fit(X_train, y_train, validation_data=(X_test, y_test), epochs=epochs)"
   ]
  },
  {
   "cell_type": "code",
   "execution_count": 35,
   "metadata": {
    "execution": {
     "iopub.execute_input": "2023-01-21T13:51:47.385569Z",
     "iopub.status.busy": "2023-01-21T13:51:47.384805Z",
     "iopub.status.idle": "2023-01-21T13:52:08.894615Z",
     "shell.execute_reply": "2023-01-21T13:52:08.893876Z",
     "shell.execute_reply.started": "2023-01-21T13:51:47.385558Z"
    }
   },
   "outputs": [],
   "source": [
    "name = model_simple.__class__.__name__\n",
    "model_simple.save(name + \".h5\")"
   ]
  },
  {
   "cell_type": "code",
   "execution_count": 10,
   "metadata": {
    "execution": {
     "iopub.execute_input": "2023-01-20T20:38:24.157928Z",
     "iopub.status.busy": "2023-01-20T20:38:24.157649Z",
     "iopub.status.idle": "2023-01-20T20:38:25.569175Z",
     "shell.execute_reply": "2023-01-20T20:38:25.567970Z",
     "shell.execute_reply.started": "2023-01-20T20:38:24.157903Z"
    }
   },
   "outputs": [
    {
     "name": "stdout",
     "output_type": "stream",
     "text": [
      "313/313 [==============================] - 1s 2ms/step\n"
     ]
    },
    {
     "data": {
      "text/plain": [
       "0.971"
      ]
     },
     "execution_count": 10,
     "metadata": {},
     "output_type": "execute_result"
    }
   ],
   "source": [
    "y_pred_simple = model_simple.predict(X_test)\n",
    "y_pred_simple_int = np.argmax(y_pred_simple, axis=1)\n",
    "y_test_int = np.argmax(y_test, axis=1)\n",
    "\n",
    "sum(y_pred_simple_int==y_test_int)/len(y_test_int)"
   ]
  },
  {
   "cell_type": "markdown",
   "metadata": {},
   "source": [
    "### Test AlexNet"
   ]
  },
  {
   "cell_type": "code",
   "execution_count": 8,
   "metadata": {
    "execution": {
     "iopub.execute_input": "2023-01-21T16:30:25.336451Z",
     "iopub.status.busy": "2023-01-21T16:30:25.336117Z",
     "iopub.status.idle": "2023-01-21T16:30:26.660215Z",
     "shell.execute_reply": "2023-01-21T16:30:26.659319Z",
     "shell.execute_reply.started": "2023-01-21T16:30:25.336426Z"
    }
   },
   "outputs": [],
   "source": [
    "model_alex = AlexNet(input_shape=(28,28,1), num_classes=10)"
   ]
  },
  {
   "cell_type": "code",
   "execution_count": 9,
   "metadata": {
    "execution": {
     "iopub.execute_input": "2023-01-21T16:30:31.216960Z",
     "iopub.status.busy": "2023-01-21T16:30:31.216298Z",
     "iopub.status.idle": "2023-01-21T16:37:40.118509Z",
     "shell.execute_reply": "2023-01-21T16:37:40.116990Z",
     "shell.execute_reply.started": "2023-01-21T16:30:31.216960Z"
    }
   },
   "outputs": [
    {
     "name": "stdout",
     "output_type": "stream",
     "text": [
      "Epoch 1/10\n",
      "1875/1875 [==============================] - 45s 23ms/step - loss: 0.5162 - accuracy: 0.8462 - val_loss: 0.1639 - val_accuracy: 0.9529\n",
      "Epoch 2/10\n",
      "1875/1875 [==============================] - 43s 23ms/step - loss: 0.1890 - accuracy: 0.9552 - val_loss: 0.2114 - val_accuracy: 0.9547\n",
      "Epoch 3/10\n",
      "1875/1875 [==============================] - 42s 23ms/step - loss: 0.1755 - accuracy: 0.9602 - val_loss: 0.1178 - val_accuracy: 0.9708\n",
      "Epoch 4/10\n",
      "1875/1875 [==============================] - 42s 23ms/step - loss: 0.1409 - accuracy: 0.9691 - val_loss: 0.1126 - val_accuracy: 0.9747\n",
      "Epoch 5/10\n",
      "1875/1875 [==============================] - 43s 23ms/step - loss: 0.1096 - accuracy: 0.9746 - val_loss: 0.1145 - val_accuracy: 0.9745\n",
      "Epoch 6/10\n",
      "1875/1875 [==============================] - 43s 23ms/step - loss: 0.1048 - accuracy: 0.9758 - val_loss: 0.1075 - val_accuracy: 0.9724\n",
      "Epoch 7/10\n",
      "1875/1875 [==============================] - 43s 23ms/step - loss: 0.0900 - accuracy: 0.9797 - val_loss: 0.1534 - val_accuracy: 0.9687\n",
      "Epoch 8/10\n",
      "1875/1875 [==============================] - 43s 23ms/step - loss: 0.1430 - accuracy: 0.9711 - val_loss: 0.2364 - val_accuracy: 0.9761\n",
      "Epoch 9/10\n",
      "1875/1875 [==============================] - 43s 23ms/step - loss: 0.0900 - accuracy: 0.9791 - val_loss: 0.1192 - val_accuracy: 0.9685\n",
      "Epoch 10/10\n",
      "1875/1875 [==============================] - 42s 23ms/step - loss: 0.0773 - accuracy: 0.9821 - val_loss: 0.1038 - val_accuracy: 0.9771\n"
     ]
    },
    {
     "data": {
      "text/plain": [
       "<keras.callbacks.History at 0x7ff3cdf0c3a0>"
      ]
     },
     "execution_count": 9,
     "metadata": {},
     "output_type": "execute_result"
    }
   ],
   "source": [
    "model_alex.fit(X_train, y_train, validation_data=(X_test, y_test), epochs=epochs)"
   ]
  },
  {
   "cell_type": "code",
   "execution_count": 10,
   "metadata": {
    "execution": {
     "iopub.execute_input": "2023-01-21T16:37:40.120484Z",
     "iopub.status.busy": "2023-01-21T16:37:40.120236Z",
     "iopub.status.idle": "2023-01-21T16:37:42.604112Z",
     "shell.execute_reply": "2023-01-21T16:37:42.603126Z",
     "shell.execute_reply.started": "2023-01-21T16:37:40.120461Z"
    }
   },
   "outputs": [],
   "source": [
    "name = model_alex.__class__.__name__\n",
    "model_alex.save(name + \".h5\")"
   ]
  },
  {
   "cell_type": "code",
   "execution_count": 15,
   "metadata": {
    "execution": {
     "iopub.execute_input": "2023-01-20T20:49:59.594554Z",
     "iopub.status.busy": "2023-01-20T20:49:59.593362Z",
     "iopub.status.idle": "2023-01-20T20:50:01.380359Z",
     "shell.execute_reply": "2023-01-20T20:50:01.379052Z",
     "shell.execute_reply.started": "2023-01-20T20:49:59.594511Z"
    }
   },
   "outputs": [
    {
     "name": "stdout",
     "output_type": "stream",
     "text": [
      "313/313 [==============================] - 2s 5ms/step\n"
     ]
    },
    {
     "data": {
      "text/plain": [
       "0.9804"
      ]
     },
     "execution_count": 15,
     "metadata": {},
     "output_type": "execute_result"
    }
   ],
   "source": [
    "y_pred_alex = model_alex.predict(X_test)\n",
    "y_pred_alex_int = np.argmax(y_pred_alex, axis=1)\n",
    "\n",
    "sum(y_pred_alex_int==y_test_int)/len(y_test_int)"
   ]
  },
  {
   "cell_type": "markdown",
   "metadata": {},
   "source": [
    "### Test SqueezeNet"
   ]
  },
  {
   "cell_type": "code",
   "execution_count": 38,
   "metadata": {
    "execution": {
     "iopub.execute_input": "2023-01-21T13:59:59.110389Z",
     "iopub.status.busy": "2023-01-21T13:59:59.110114Z",
     "iopub.status.idle": "2023-01-21T13:59:59.412705Z",
     "shell.execute_reply": "2023-01-21T13:59:59.411796Z",
     "shell.execute_reply.started": "2023-01-21T13:59:59.110363Z"
    }
   },
   "outputs": [],
   "source": [
    "model_sq = SqueezeNet(input_shape=(28,28,1), num_classes=10).model"
   ]
  },
  {
   "cell_type": "code",
   "execution_count": 39,
   "metadata": {
    "execution": {
     "iopub.execute_input": "2023-01-21T13:59:59.415082Z",
     "iopub.status.busy": "2023-01-21T13:59:59.414853Z",
     "iopub.status.idle": "2023-01-21T14:05:22.887998Z",
     "shell.execute_reply": "2023-01-21T14:05:22.887021Z",
     "shell.execute_reply.started": "2023-01-21T13:59:59.415082Z"
    }
   },
   "outputs": [
    {
     "name": "stdout",
     "output_type": "stream",
     "text": [
      "Epoch 1/10\n",
      "1875/1875 [==============================] - 32s 16ms/step - loss: 0.5368 - accuracy: 0.8318 - val_loss: 0.1031 - val_accuracy: 0.9744\n",
      "Epoch 2/10\n",
      "1875/1875 [==============================] - 31s 17ms/step - loss: 0.1408 - accuracy: 0.9653 - val_loss: 0.0910 - val_accuracy: 0.9747\n",
      "Epoch 3/10\n",
      "1875/1875 [==============================] - 31s 17ms/step - loss: 0.1162 - accuracy: 0.9707 - val_loss: 0.0902 - val_accuracy: 0.9754\n",
      "Epoch 4/10\n",
      "1875/1875 [==============================] - 30s 16ms/step - loss: 0.1003 - accuracy: 0.9745 - val_loss: 0.1022 - val_accuracy: 0.9736\n",
      "Epoch 5/10\n",
      "1875/1875 [==============================] - 30s 16ms/step - loss: 0.0946 - accuracy: 0.9769 - val_loss: 0.0732 - val_accuracy: 0.9811\n",
      "Epoch 6/10\n",
      "1875/1875 [==============================] - 30s 16ms/step - loss: 0.0865 - accuracy: 0.9784 - val_loss: 0.0835 - val_accuracy: 0.9806\n",
      "Epoch 7/10\n",
      "1875/1875 [==============================] - 30s 16ms/step - loss: 0.0853 - accuracy: 0.9797 - val_loss: 0.0651 - val_accuracy: 0.9835\n",
      "Epoch 8/10\n",
      "1875/1875 [==============================] - 31s 17ms/step - loss: 0.0792 - accuracy: 0.9804 - val_loss: 0.0746 - val_accuracy: 0.9836\n",
      "Epoch 9/10\n",
      "1875/1875 [==============================] - 31s 17ms/step - loss: 0.0824 - accuracy: 0.9796 - val_loss: 0.0739 - val_accuracy: 0.9818\n",
      "Epoch 10/10\n",
      "1875/1875 [==============================] - 30s 16ms/step - loss: 0.0662 - accuracy: 0.9838 - val_loss: 0.0600 - val_accuracy: 0.9839\n"
     ]
    },
    {
     "data": {
      "text/plain": [
       "<keras.callbacks.History at 0x7fdeb53c4d90>"
      ]
     },
     "execution_count": 39,
     "metadata": {},
     "output_type": "execute_result"
    }
   ],
   "source": [
    "model_sq.fit(X_train, y_train, validation_data=(X_test, y_test), epochs=epochs)"
   ]
  },
  {
   "cell_type": "code",
   "execution_count": 40,
   "metadata": {
    "execution": {
     "iopub.execute_input": "2023-01-21T14:05:22.889570Z",
     "iopub.status.busy": "2023-01-21T14:05:22.889272Z",
     "iopub.status.idle": "2023-01-21T14:05:46.703100Z",
     "shell.execute_reply": "2023-01-21T14:05:46.701704Z",
     "shell.execute_reply.started": "2023-01-21T14:05:22.889536Z"
    }
   },
   "outputs": [],
   "source": [
    "name = model_sq.__class__.__name__\n",
    "model_sq.save(name + \".h5\")"
   ]
  },
  {
   "cell_type": "code",
   "execution_count": 20,
   "metadata": {
    "execution": {
     "iopub.execute_input": "2023-01-20T21:09:48.188383Z",
     "iopub.status.busy": "2023-01-20T21:09:48.186881Z",
     "iopub.status.idle": "2023-01-20T21:09:50.436516Z",
     "shell.execute_reply": "2023-01-20T21:09:50.434692Z",
     "shell.execute_reply.started": "2023-01-20T21:09:48.188328Z"
    }
   },
   "outputs": [
    {
     "name": "stdout",
     "output_type": "stream",
     "text": [
      "313/313 [==============================] - 2s 7ms/step\n"
     ]
    },
    {
     "data": {
      "text/plain": [
       "0.9798"
      ]
     },
     "execution_count": 20,
     "metadata": {},
     "output_type": "execute_result"
    }
   ],
   "source": [
    "y_pred_sq = model_sq.predict(X_test)\n",
    "y_pred_sq_int = np.argmax(y_pred_sq, axis=1)\n",
    "\n",
    "sum(y_pred_sq_int==y_test_int)/len(y_test_int)"
   ]
  },
  {
   "cell_type": "markdown",
   "metadata": {},
   "source": [
    "### Test VGG16"
   ]
  },
  {
   "cell_type": "code",
   "execution_count": 42,
   "metadata": {
    "execution": {
     "iopub.execute_input": "2023-01-21T14:14:43.978762Z",
     "iopub.status.busy": "2023-01-21T14:14:43.978416Z",
     "iopub.status.idle": "2023-01-21T14:14:44.160563Z",
     "shell.execute_reply": "2023-01-21T14:14:44.159711Z",
     "shell.execute_reply.started": "2023-01-21T14:14:43.978736Z"
    }
   },
   "outputs": [],
   "source": [
    "model_vgg = VGG(input_shape=(28,28,1), num_classes=10)"
   ]
  },
  {
   "cell_type": "code",
   "execution_count": 44,
   "metadata": {
    "execution": {
     "iopub.execute_input": "2023-01-21T14:14:57.017699Z",
     "iopub.status.busy": "2023-01-21T14:14:57.017065Z",
     "iopub.status.idle": "2023-01-21T14:35:40.510523Z",
     "shell.execute_reply": "2023-01-21T14:35:40.509916Z",
     "shell.execute_reply.started": "2023-01-21T14:14:57.017699Z"
    }
   },
   "outputs": [
    {
     "name": "stdout",
     "output_type": "stream",
     "text": [
      "Epoch 1/10\n",
      "1875/1875 [==============================] - 125s 66ms/step - loss: 0.6558 - accuracy: 0.7893 - val_loss: 0.1741 - val_accuracy: 0.9572\n",
      "Epoch 2/10\n",
      "1875/1875 [==============================] - 123s 66ms/step - loss: 0.1384 - accuracy: 0.9676 - val_loss: 0.1318 - val_accuracy: 0.9686\n",
      "Epoch 3/10\n",
      "1875/1875 [==============================] - 128s 68ms/step - loss: 0.1262 - accuracy: 0.9718 - val_loss: 0.2349 - val_accuracy: 0.9462\n",
      "Epoch 4/10\n",
      "1875/1875 [==============================] - 123s 66ms/step - loss: 0.1241 - accuracy: 0.9715 - val_loss: 0.1274 - val_accuracy: 0.9751\n",
      "Epoch 5/10\n",
      "1875/1875 [==============================] - 123s 66ms/step - loss: 0.0949 - accuracy: 0.9795 - val_loss: 0.0606 - val_accuracy: 0.9842\n",
      "Epoch 6/10\n",
      "1875/1875 [==============================] - 128s 68ms/step - loss: 0.0908 - accuracy: 0.9808 - val_loss: 0.0676 - val_accuracy: 0.9840\n",
      "Epoch 7/10\n",
      "1875/1875 [==============================] - 123s 66ms/step - loss: 0.0860 - accuracy: 0.9810 - val_loss: 0.0961 - val_accuracy: 0.9785\n",
      "Epoch 8/10\n",
      "1875/1875 [==============================] - 123s 66ms/step - loss: 0.0780 - accuracy: 0.9826 - val_loss: 0.0721 - val_accuracy: 0.9854\n",
      "Epoch 9/10\n",
      "1875/1875 [==============================] - 123s 66ms/step - loss: 0.0606 - accuracy: 0.9866 - val_loss: 0.0398 - val_accuracy: 0.9907\n",
      "Epoch 10/10\n",
      "1875/1875 [==============================] - 123s 66ms/step - loss: 0.0662 - accuracy: 0.9853 - val_loss: 0.0600 - val_accuracy: 0.9854\n"
     ]
    },
    {
     "data": {
      "text/plain": [
       "<keras.callbacks.History at 0x7fde351ae430>"
      ]
     },
     "execution_count": 44,
     "metadata": {},
     "output_type": "execute_result"
    }
   ],
   "source": [
    "model_vgg.fit(X_train, y_train, validation_data=(X_test, y_test), epochs=epochs)"
   ]
  },
  {
   "cell_type": "code",
   "execution_count": 45,
   "metadata": {
    "execution": {
     "iopub.execute_input": "2023-01-21T14:35:40.513296Z",
     "iopub.status.busy": "2023-01-21T14:35:40.512927Z",
     "iopub.status.idle": "2023-01-21T14:35:47.780511Z",
     "shell.execute_reply": "2023-01-21T14:35:47.779199Z",
     "shell.execute_reply.started": "2023-01-21T14:35:40.513260Z"
    }
   },
   "outputs": [],
   "source": [
    "name = model_vgg.__class__.__name__\n",
    "model_vgg.save(name +\"_16_\" + \".h5\")"
   ]
  },
  {
   "cell_type": "code",
   "execution_count": 32,
   "metadata": {
    "execution": {
     "iopub.execute_input": "2023-01-20T21:23:46.595737Z",
     "iopub.status.busy": "2023-01-20T21:23:46.594571Z",
     "iopub.status.idle": "2023-01-20T21:23:52.416282Z",
     "shell.execute_reply": "2023-01-20T21:23:52.414193Z",
     "shell.execute_reply.started": "2023-01-20T21:23:46.595642Z"
    }
   },
   "outputs": [
    {
     "name": "stdout",
     "output_type": "stream",
     "text": [
      "313/313 [==============================] - 6s 17ms/step\n"
     ]
    },
    {
     "data": {
      "text/plain": [
       "0.9743"
      ]
     },
     "execution_count": 32,
     "metadata": {},
     "output_type": "execute_result"
    }
   ],
   "source": [
    "y_pred_vgg = model_vgg.predict(X_test)\n",
    "y_pred_vgg_int = np.argmax(y_pred_vgg, axis=1)\n",
    "\n",
    "sum(y_pred_vgg_int==y_test_int)/len(y_test_int)"
   ]
  },
  {
   "cell_type": "markdown",
   "metadata": {},
   "source": [
    "### Test VGG19"
   ]
  },
  {
   "cell_type": "code",
   "execution_count": 12,
   "metadata": {
    "execution": {
     "iopub.execute_input": "2023-01-21T16:42:50.153180Z",
     "iopub.status.busy": "2023-01-21T16:42:50.152796Z",
     "iopub.status.idle": "2023-01-21T16:42:50.338317Z",
     "shell.execute_reply": "2023-01-21T16:42:50.337391Z",
     "shell.execute_reply.started": "2023-01-21T16:42:50.153165Z"
    }
   },
   "outputs": [],
   "source": [
    "model_vgg_19 = VGG(input_shape=(28,28,1), num_classes=10, vgg_type=19)"
   ]
  },
  {
   "cell_type": "code",
   "execution_count": 13,
   "metadata": {
    "execution": {
     "iopub.execute_input": "2023-01-21T16:42:51.875274Z",
     "iopub.status.busy": "2023-01-21T16:42:51.874932Z",
     "iopub.status.idle": "2023-01-21T16:45:38.794328Z",
     "shell.execute_reply": "2023-01-21T16:45:38.792472Z",
     "shell.execute_reply.started": "2023-01-21T16:42:51.875250Z"
    }
   },
   "outputs": [
    {
     "name": "stdout",
     "output_type": "stream",
     "text": [
      "Epoch 1/10\n",
      "1875/1875 [==============================] - 158s 83ms/step - loss: 2.3341 - accuracy: 0.1119 - val_loss: 2.3011 - val_accuracy: 0.1135\n",
      "Epoch 2/10\n",
      "  87/1875 [>.............................] - ETA: 2:20 - loss: 2.3021 - accuracy: 0.1128"
     ]
    },
    {
     "ename": "KeyboardInterrupt",
     "evalue": "",
     "output_type": "error",
     "traceback": [
      "\u001b[0;31m---------------------------------------------------------------------------\u001b[0m",
      "\u001b[0;31mKeyboardInterrupt\u001b[0m                         Traceback (most recent call last)",
      "Input \u001b[0;32mIn [13]\u001b[0m, in \u001b[0;36m<cell line: 1>\u001b[0;34m()\u001b[0m\n\u001b[0;32m----> 1\u001b[0m \u001b[43mmodel_vgg_19\u001b[49m\u001b[38;5;241;43m.\u001b[39;49m\u001b[43mfit\u001b[49m\u001b[43m(\u001b[49m\u001b[43mX_train\u001b[49m\u001b[43m,\u001b[49m\u001b[43m \u001b[49m\u001b[43my_train\u001b[49m\u001b[43m,\u001b[49m\u001b[43m \u001b[49m\u001b[43mvalidation_data\u001b[49m\u001b[38;5;241;43m=\u001b[39;49m\u001b[43m(\u001b[49m\u001b[43mX_test\u001b[49m\u001b[43m,\u001b[49m\u001b[43m \u001b[49m\u001b[43my_test\u001b[49m\u001b[43m)\u001b[49m\u001b[43m,\u001b[49m\u001b[43m \u001b[49m\u001b[43mepochs\u001b[49m\u001b[38;5;241;43m=\u001b[39;49m\u001b[43mepochs\u001b[49m\u001b[43m)\u001b[49m\n",
      "File \u001b[0;32m/usr/local/lib/python3.9/dist-packages/keras/utils/traceback_utils.py:64\u001b[0m, in \u001b[0;36mfilter_traceback.<locals>.error_handler\u001b[0;34m(*args, **kwargs)\u001b[0m\n\u001b[1;32m     62\u001b[0m filtered_tb \u001b[38;5;241m=\u001b[39m \u001b[38;5;28;01mNone\u001b[39;00m\n\u001b[1;32m     63\u001b[0m \u001b[38;5;28;01mtry\u001b[39;00m:\n\u001b[0;32m---> 64\u001b[0m   \u001b[38;5;28;01mreturn\u001b[39;00m \u001b[43mfn\u001b[49m\u001b[43m(\u001b[49m\u001b[38;5;241;43m*\u001b[39;49m\u001b[43margs\u001b[49m\u001b[43m,\u001b[49m\u001b[43m \u001b[49m\u001b[38;5;241;43m*\u001b[39;49m\u001b[38;5;241;43m*\u001b[39;49m\u001b[43mkwargs\u001b[49m\u001b[43m)\u001b[49m\n\u001b[1;32m     65\u001b[0m \u001b[38;5;28;01mexcept\u001b[39;00m \u001b[38;5;167;01mException\u001b[39;00m \u001b[38;5;28;01mas\u001b[39;00m e:  \u001b[38;5;66;03m# pylint: disable=broad-except\u001b[39;00m\n\u001b[1;32m     66\u001b[0m   filtered_tb \u001b[38;5;241m=\u001b[39m _process_traceback_frames(e\u001b[38;5;241m.\u001b[39m__traceback__)\n",
      "File \u001b[0;32m/usr/local/lib/python3.9/dist-packages/keras/engine/training.py:1414\u001b[0m, in \u001b[0;36mModel.fit\u001b[0;34m(self, x, y, batch_size, epochs, verbose, callbacks, validation_split, validation_data, shuffle, class_weight, sample_weight, initial_epoch, steps_per_epoch, validation_steps, validation_batch_size, validation_freq, max_queue_size, workers, use_multiprocessing)\u001b[0m\n\u001b[1;32m   1412\u001b[0m logs \u001b[38;5;241m=\u001b[39m tmp_logs  \u001b[38;5;66;03m# No error, now safe to assign to logs.\u001b[39;00m\n\u001b[1;32m   1413\u001b[0m end_step \u001b[38;5;241m=\u001b[39m step \u001b[38;5;241m+\u001b[39m data_handler\u001b[38;5;241m.\u001b[39mstep_increment\n\u001b[0;32m-> 1414\u001b[0m \u001b[43mcallbacks\u001b[49m\u001b[38;5;241;43m.\u001b[39;49m\u001b[43mon_train_batch_end\u001b[49m\u001b[43m(\u001b[49m\u001b[43mend_step\u001b[49m\u001b[43m,\u001b[49m\u001b[43m \u001b[49m\u001b[43mlogs\u001b[49m\u001b[43m)\u001b[49m\n\u001b[1;32m   1415\u001b[0m \u001b[38;5;28;01mif\u001b[39;00m \u001b[38;5;28mself\u001b[39m\u001b[38;5;241m.\u001b[39mstop_training:\n\u001b[1;32m   1416\u001b[0m   \u001b[38;5;28;01mbreak\u001b[39;00m\n",
      "File \u001b[0;32m/usr/local/lib/python3.9/dist-packages/keras/callbacks.py:438\u001b[0m, in \u001b[0;36mCallbackList.on_train_batch_end\u001b[0;34m(self, batch, logs)\u001b[0m\n\u001b[1;32m    431\u001b[0m \u001b[38;5;124;03m\"\"\"Calls the `on_train_batch_end` methods of its callbacks.\u001b[39;00m\n\u001b[1;32m    432\u001b[0m \n\u001b[1;32m    433\u001b[0m \u001b[38;5;124;03mArgs:\u001b[39;00m\n\u001b[1;32m    434\u001b[0m \u001b[38;5;124;03m    batch: Integer, index of batch within the current epoch.\u001b[39;00m\n\u001b[1;32m    435\u001b[0m \u001b[38;5;124;03m    logs: Dict. Aggregated metric results up until this batch.\u001b[39;00m\n\u001b[1;32m    436\u001b[0m \u001b[38;5;124;03m\"\"\"\u001b[39;00m\n\u001b[1;32m    437\u001b[0m \u001b[38;5;28;01mif\u001b[39;00m \u001b[38;5;28mself\u001b[39m\u001b[38;5;241m.\u001b[39m_should_call_train_batch_hooks:\n\u001b[0;32m--> 438\u001b[0m   \u001b[38;5;28;43mself\u001b[39;49m\u001b[38;5;241;43m.\u001b[39;49m\u001b[43m_call_batch_hook\u001b[49m\u001b[43m(\u001b[49m\u001b[43mModeKeys\u001b[49m\u001b[38;5;241;43m.\u001b[39;49m\u001b[43mTRAIN\u001b[49m\u001b[43m,\u001b[49m\u001b[43m \u001b[49m\u001b[38;5;124;43m'\u001b[39;49m\u001b[38;5;124;43mend\u001b[39;49m\u001b[38;5;124;43m'\u001b[39;49m\u001b[43m,\u001b[49m\u001b[43m \u001b[49m\u001b[43mbatch\u001b[49m\u001b[43m,\u001b[49m\u001b[43m \u001b[49m\u001b[43mlogs\u001b[49m\u001b[38;5;241;43m=\u001b[39;49m\u001b[43mlogs\u001b[49m\u001b[43m)\u001b[49m\n",
      "File \u001b[0;32m/usr/local/lib/python3.9/dist-packages/keras/callbacks.py:297\u001b[0m, in \u001b[0;36mCallbackList._call_batch_hook\u001b[0;34m(self, mode, hook, batch, logs)\u001b[0m\n\u001b[1;32m    295\u001b[0m   \u001b[38;5;28mself\u001b[39m\u001b[38;5;241m.\u001b[39m_call_batch_begin_hook(mode, batch, logs)\n\u001b[1;32m    296\u001b[0m \u001b[38;5;28;01melif\u001b[39;00m hook \u001b[38;5;241m==\u001b[39m \u001b[38;5;124m'\u001b[39m\u001b[38;5;124mend\u001b[39m\u001b[38;5;124m'\u001b[39m:\n\u001b[0;32m--> 297\u001b[0m   \u001b[38;5;28;43mself\u001b[39;49m\u001b[38;5;241;43m.\u001b[39;49m\u001b[43m_call_batch_end_hook\u001b[49m\u001b[43m(\u001b[49m\u001b[43mmode\u001b[49m\u001b[43m,\u001b[49m\u001b[43m \u001b[49m\u001b[43mbatch\u001b[49m\u001b[43m,\u001b[49m\u001b[43m \u001b[49m\u001b[43mlogs\u001b[49m\u001b[43m)\u001b[49m\n\u001b[1;32m    298\u001b[0m \u001b[38;5;28;01melse\u001b[39;00m:\n\u001b[1;32m    299\u001b[0m   \u001b[38;5;28;01mraise\u001b[39;00m \u001b[38;5;167;01mValueError\u001b[39;00m(\n\u001b[1;32m    300\u001b[0m       \u001b[38;5;124mf\u001b[39m\u001b[38;5;124m'\u001b[39m\u001b[38;5;124mUnrecognized hook: \u001b[39m\u001b[38;5;132;01m{\u001b[39;00mhook\u001b[38;5;132;01m}\u001b[39;00m\u001b[38;5;124m. Expected values are [\u001b[39m\u001b[38;5;124m\"\u001b[39m\u001b[38;5;124mbegin\u001b[39m\u001b[38;5;124m\"\u001b[39m\u001b[38;5;124m, \u001b[39m\u001b[38;5;124m\"\u001b[39m\u001b[38;5;124mend\u001b[39m\u001b[38;5;124m\"\u001b[39m\u001b[38;5;124m]\u001b[39m\u001b[38;5;124m'\u001b[39m)\n",
      "File \u001b[0;32m/usr/local/lib/python3.9/dist-packages/keras/callbacks.py:318\u001b[0m, in \u001b[0;36mCallbackList._call_batch_end_hook\u001b[0;34m(self, mode, batch, logs)\u001b[0m\n\u001b[1;32m    315\u001b[0m   batch_time \u001b[38;5;241m=\u001b[39m time\u001b[38;5;241m.\u001b[39mtime() \u001b[38;5;241m-\u001b[39m \u001b[38;5;28mself\u001b[39m\u001b[38;5;241m.\u001b[39m_batch_start_time\n\u001b[1;32m    316\u001b[0m   \u001b[38;5;28mself\u001b[39m\u001b[38;5;241m.\u001b[39m_batch_times\u001b[38;5;241m.\u001b[39mappend(batch_time)\n\u001b[0;32m--> 318\u001b[0m \u001b[38;5;28;43mself\u001b[39;49m\u001b[38;5;241;43m.\u001b[39;49m\u001b[43m_call_batch_hook_helper\u001b[49m\u001b[43m(\u001b[49m\u001b[43mhook_name\u001b[49m\u001b[43m,\u001b[49m\u001b[43m \u001b[49m\u001b[43mbatch\u001b[49m\u001b[43m,\u001b[49m\u001b[43m \u001b[49m\u001b[43mlogs\u001b[49m\u001b[43m)\u001b[49m\n\u001b[1;32m    320\u001b[0m \u001b[38;5;28;01mif\u001b[39;00m \u001b[38;5;28mlen\u001b[39m(\u001b[38;5;28mself\u001b[39m\u001b[38;5;241m.\u001b[39m_batch_times) \u001b[38;5;241m>\u001b[39m\u001b[38;5;241m=\u001b[39m \u001b[38;5;28mself\u001b[39m\u001b[38;5;241m.\u001b[39m_num_batches_for_timing_check:\n\u001b[1;32m    321\u001b[0m   end_hook_name \u001b[38;5;241m=\u001b[39m hook_name\n",
      "File \u001b[0;32m/usr/local/lib/python3.9/dist-packages/keras/callbacks.py:356\u001b[0m, in \u001b[0;36mCallbackList._call_batch_hook_helper\u001b[0;34m(self, hook_name, batch, logs)\u001b[0m\n\u001b[1;32m    354\u001b[0m \u001b[38;5;28;01mfor\u001b[39;00m callback \u001b[38;5;129;01min\u001b[39;00m \u001b[38;5;28mself\u001b[39m\u001b[38;5;241m.\u001b[39mcallbacks:\n\u001b[1;32m    355\u001b[0m   hook \u001b[38;5;241m=\u001b[39m \u001b[38;5;28mgetattr\u001b[39m(callback, hook_name)\n\u001b[0;32m--> 356\u001b[0m   \u001b[43mhook\u001b[49m\u001b[43m(\u001b[49m\u001b[43mbatch\u001b[49m\u001b[43m,\u001b[49m\u001b[43m \u001b[49m\u001b[43mlogs\u001b[49m\u001b[43m)\u001b[49m\n\u001b[1;32m    358\u001b[0m \u001b[38;5;28;01mif\u001b[39;00m \u001b[38;5;28mself\u001b[39m\u001b[38;5;241m.\u001b[39m_check_timing:\n\u001b[1;32m    359\u001b[0m   \u001b[38;5;28;01mif\u001b[39;00m hook_name \u001b[38;5;129;01mnot\u001b[39;00m \u001b[38;5;129;01min\u001b[39;00m \u001b[38;5;28mself\u001b[39m\u001b[38;5;241m.\u001b[39m_hook_times:\n",
      "File \u001b[0;32m/usr/local/lib/python3.9/dist-packages/keras/callbacks.py:1034\u001b[0m, in \u001b[0;36mProgbarLogger.on_train_batch_end\u001b[0;34m(self, batch, logs)\u001b[0m\n\u001b[1;32m   1033\u001b[0m \u001b[38;5;28;01mdef\u001b[39;00m \u001b[38;5;21mon_train_batch_end\u001b[39m(\u001b[38;5;28mself\u001b[39m, batch, logs\u001b[38;5;241m=\u001b[39m\u001b[38;5;28;01mNone\u001b[39;00m):\n\u001b[0;32m-> 1034\u001b[0m   \u001b[38;5;28;43mself\u001b[39;49m\u001b[38;5;241;43m.\u001b[39;49m\u001b[43m_batch_update_progbar\u001b[49m\u001b[43m(\u001b[49m\u001b[43mbatch\u001b[49m\u001b[43m,\u001b[49m\u001b[43m \u001b[49m\u001b[43mlogs\u001b[49m\u001b[43m)\u001b[49m\n",
      "File \u001b[0;32m/usr/local/lib/python3.9/dist-packages/keras/callbacks.py:1106\u001b[0m, in \u001b[0;36mProgbarLogger._batch_update_progbar\u001b[0;34m(self, batch, logs)\u001b[0m\n\u001b[1;32m   1102\u001b[0m   \u001b[38;5;28mself\u001b[39m\u001b[38;5;241m.\u001b[39mseen \u001b[38;5;241m+\u001b[39m\u001b[38;5;241m=\u001b[39m add_seen\n\u001b[1;32m   1104\u001b[0m \u001b[38;5;28;01mif\u001b[39;00m \u001b[38;5;28mself\u001b[39m\u001b[38;5;241m.\u001b[39mverbose \u001b[38;5;241m==\u001b[39m \u001b[38;5;241m1\u001b[39m:\n\u001b[1;32m   1105\u001b[0m   \u001b[38;5;66;03m# Only block async when verbose = 1.\u001b[39;00m\n\u001b[0;32m-> 1106\u001b[0m   logs \u001b[38;5;241m=\u001b[39m \u001b[43mtf_utils\u001b[49m\u001b[38;5;241;43m.\u001b[39;49m\u001b[43msync_to_numpy_or_python_type\u001b[49m\u001b[43m(\u001b[49m\u001b[43mlogs\u001b[49m\u001b[43m)\u001b[49m\n\u001b[1;32m   1107\u001b[0m   \u001b[38;5;28mself\u001b[39m\u001b[38;5;241m.\u001b[39mprogbar\u001b[38;5;241m.\u001b[39mupdate(\u001b[38;5;28mself\u001b[39m\u001b[38;5;241m.\u001b[39mseen, \u001b[38;5;28mlist\u001b[39m(logs\u001b[38;5;241m.\u001b[39mitems()), finalize\u001b[38;5;241m=\u001b[39m\u001b[38;5;28;01mFalse\u001b[39;00m)\n",
      "File \u001b[0;32m/usr/local/lib/python3.9/dist-packages/keras/utils/tf_utils.py:607\u001b[0m, in \u001b[0;36msync_to_numpy_or_python_type\u001b[0;34m(tensors)\u001b[0m\n\u001b[1;32m    604\u001b[0m     \u001b[38;5;28;01mreturn\u001b[39;00m t\n\u001b[1;32m    605\u001b[0m   \u001b[38;5;28;01mreturn\u001b[39;00m t\u001b[38;5;241m.\u001b[39mitem() \u001b[38;5;28;01mif\u001b[39;00m np\u001b[38;5;241m.\u001b[39mndim(t) \u001b[38;5;241m==\u001b[39m \u001b[38;5;241m0\u001b[39m \u001b[38;5;28;01melse\u001b[39;00m t\n\u001b[0;32m--> 607\u001b[0m \u001b[38;5;28;01mreturn\u001b[39;00m \u001b[43mtf\u001b[49m\u001b[38;5;241;43m.\u001b[39;49m\u001b[43mnest\u001b[49m\u001b[38;5;241;43m.\u001b[39;49m\u001b[43mmap_structure\u001b[49m\u001b[43m(\u001b[49m\u001b[43m_to_single_numpy_or_python_type\u001b[49m\u001b[43m,\u001b[49m\u001b[43m \u001b[49m\u001b[43mtensors\u001b[49m\u001b[43m)\u001b[49m\n",
      "File \u001b[0;32m/usr/local/lib/python3.9/dist-packages/tensorflow/python/util/nest.py:916\u001b[0m, in \u001b[0;36mmap_structure\u001b[0;34m(func, *structure, **kwargs)\u001b[0m\n\u001b[1;32m    912\u001b[0m flat_structure \u001b[38;5;241m=\u001b[39m (flatten(s, expand_composites) \u001b[38;5;28;01mfor\u001b[39;00m s \u001b[38;5;129;01min\u001b[39;00m structure)\n\u001b[1;32m    913\u001b[0m entries \u001b[38;5;241m=\u001b[39m \u001b[38;5;28mzip\u001b[39m(\u001b[38;5;241m*\u001b[39mflat_structure)\n\u001b[1;32m    915\u001b[0m \u001b[38;5;28;01mreturn\u001b[39;00m pack_sequence_as(\n\u001b[0;32m--> 916\u001b[0m     structure[\u001b[38;5;241m0\u001b[39m], [func(\u001b[38;5;241m*\u001b[39mx) \u001b[38;5;28;01mfor\u001b[39;00m x \u001b[38;5;129;01min\u001b[39;00m entries],\n\u001b[1;32m    917\u001b[0m     expand_composites\u001b[38;5;241m=\u001b[39mexpand_composites)\n",
      "File \u001b[0;32m/usr/local/lib/python3.9/dist-packages/tensorflow/python/util/nest.py:916\u001b[0m, in \u001b[0;36m<listcomp>\u001b[0;34m(.0)\u001b[0m\n\u001b[1;32m    912\u001b[0m flat_structure \u001b[38;5;241m=\u001b[39m (flatten(s, expand_composites) \u001b[38;5;28;01mfor\u001b[39;00m s \u001b[38;5;129;01min\u001b[39;00m structure)\n\u001b[1;32m    913\u001b[0m entries \u001b[38;5;241m=\u001b[39m \u001b[38;5;28mzip\u001b[39m(\u001b[38;5;241m*\u001b[39mflat_structure)\n\u001b[1;32m    915\u001b[0m \u001b[38;5;28;01mreturn\u001b[39;00m pack_sequence_as(\n\u001b[0;32m--> 916\u001b[0m     structure[\u001b[38;5;241m0\u001b[39m], [\u001b[43mfunc\u001b[49m\u001b[43m(\u001b[49m\u001b[38;5;241;43m*\u001b[39;49m\u001b[43mx\u001b[49m\u001b[43m)\u001b[49m \u001b[38;5;28;01mfor\u001b[39;00m x \u001b[38;5;129;01min\u001b[39;00m entries],\n\u001b[1;32m    917\u001b[0m     expand_composites\u001b[38;5;241m=\u001b[39mexpand_composites)\n",
      "File \u001b[0;32m/usr/local/lib/python3.9/dist-packages/keras/utils/tf_utils.py:601\u001b[0m, in \u001b[0;36msync_to_numpy_or_python_type.<locals>._to_single_numpy_or_python_type\u001b[0;34m(t)\u001b[0m\n\u001b[1;32m    598\u001b[0m \u001b[38;5;28;01mdef\u001b[39;00m \u001b[38;5;21m_to_single_numpy_or_python_type\u001b[39m(t):\n\u001b[1;32m    599\u001b[0m   \u001b[38;5;66;03m# Don't turn ragged or sparse tensors to NumPy.\u001b[39;00m\n\u001b[1;32m    600\u001b[0m   \u001b[38;5;28;01mif\u001b[39;00m \u001b[38;5;28misinstance\u001b[39m(t, tf\u001b[38;5;241m.\u001b[39mTensor):\n\u001b[0;32m--> 601\u001b[0m     t \u001b[38;5;241m=\u001b[39m \u001b[43mt\u001b[49m\u001b[38;5;241;43m.\u001b[39;49m\u001b[43mnumpy\u001b[49m\u001b[43m(\u001b[49m\u001b[43m)\u001b[49m\n\u001b[1;32m    602\u001b[0m   \u001b[38;5;66;03m# Strings, ragged and sparse tensors don't have .item(). Return them as-is.\u001b[39;00m\n\u001b[1;32m    603\u001b[0m   \u001b[38;5;28;01mif\u001b[39;00m \u001b[38;5;129;01mnot\u001b[39;00m \u001b[38;5;28misinstance\u001b[39m(t, (np\u001b[38;5;241m.\u001b[39mndarray, np\u001b[38;5;241m.\u001b[39mgeneric)):\n",
      "File \u001b[0;32m/usr/local/lib/python3.9/dist-packages/tensorflow/python/framework/ops.py:1159\u001b[0m, in \u001b[0;36m_EagerTensorBase.numpy\u001b[0;34m(self)\u001b[0m\n\u001b[1;32m   1136\u001b[0m \u001b[38;5;124;03m\"\"\"Copy of the contents of this Tensor into a NumPy array or scalar.\u001b[39;00m\n\u001b[1;32m   1137\u001b[0m \n\u001b[1;32m   1138\u001b[0m \u001b[38;5;124;03mUnlike NumPy arrays, Tensors are immutable, so this method has to copy\u001b[39;00m\n\u001b[0;32m   (...)\u001b[0m\n\u001b[1;32m   1156\u001b[0m \u001b[38;5;124;03m    NumPy dtype.\u001b[39;00m\n\u001b[1;32m   1157\u001b[0m \u001b[38;5;124;03m\"\"\"\u001b[39;00m\n\u001b[1;32m   1158\u001b[0m \u001b[38;5;66;03m# TODO(slebedev): Consider avoiding a copy for non-CPU or remote tensors.\u001b[39;00m\n\u001b[0;32m-> 1159\u001b[0m maybe_arr \u001b[38;5;241m=\u001b[39m \u001b[38;5;28;43mself\u001b[39;49m\u001b[38;5;241;43m.\u001b[39;49m\u001b[43m_numpy\u001b[49m\u001b[43m(\u001b[49m\u001b[43m)\u001b[49m  \u001b[38;5;66;03m# pylint: disable=protected-access\u001b[39;00m\n\u001b[1;32m   1160\u001b[0m \u001b[38;5;28;01mreturn\u001b[39;00m maybe_arr\u001b[38;5;241m.\u001b[39mcopy() \u001b[38;5;28;01mif\u001b[39;00m \u001b[38;5;28misinstance\u001b[39m(maybe_arr, np\u001b[38;5;241m.\u001b[39mndarray) \u001b[38;5;28;01melse\u001b[39;00m maybe_arr\n",
      "File \u001b[0;32m/usr/local/lib/python3.9/dist-packages/tensorflow/python/framework/ops.py:1125\u001b[0m, in \u001b[0;36m_EagerTensorBase._numpy\u001b[0;34m(self)\u001b[0m\n\u001b[1;32m   1123\u001b[0m \u001b[38;5;28;01mdef\u001b[39;00m \u001b[38;5;21m_numpy\u001b[39m(\u001b[38;5;28mself\u001b[39m):\n\u001b[1;32m   1124\u001b[0m   \u001b[38;5;28;01mtry\u001b[39;00m:\n\u001b[0;32m-> 1125\u001b[0m     \u001b[38;5;28;01mreturn\u001b[39;00m \u001b[38;5;28;43mself\u001b[39;49m\u001b[38;5;241;43m.\u001b[39;49m\u001b[43m_numpy_internal\u001b[49m\u001b[43m(\u001b[49m\u001b[43m)\u001b[49m\n\u001b[1;32m   1126\u001b[0m   \u001b[38;5;28;01mexcept\u001b[39;00m core\u001b[38;5;241m.\u001b[39m_NotOkStatusException \u001b[38;5;28;01mas\u001b[39;00m e:  \u001b[38;5;66;03m# pylint: disable=protected-access\u001b[39;00m\n\u001b[1;32m   1127\u001b[0m     \u001b[38;5;28;01mraise\u001b[39;00m core\u001b[38;5;241m.\u001b[39m_status_to_exception(e) \u001b[38;5;28;01mfrom\u001b[39;00m \u001b[38;5;28mNone\u001b[39m\n",
      "\u001b[0;31mKeyboardInterrupt\u001b[0m: "
     ]
    }
   ],
   "source": [
    "model_vgg_19.fit(X_train, y_train, validation_data=(X_test, y_test), epochs=epochs)"
   ]
  },
  {
   "cell_type": "code",
   "execution_count": null,
   "metadata": {
    "execution": {
     "iopub.status.busy": "2023-01-21T16:41:01.382064Z",
     "iopub.status.idle": "2023-01-21T16:41:01.382592Z",
     "shell.execute_reply": "2023-01-21T16:41:01.382592Z",
     "shell.execute_reply.started": "2023-01-21T16:41:01.382592Z"
    }
   },
   "outputs": [],
   "source": [
    "name = model_vgg_19.__class__.__name__\n",
    "model_vgg_19.save(name +\"_19_\" + \".h5\")"
   ]
  },
  {
   "cell_type": "markdown",
   "metadata": {},
   "source": [
    "### Test ResNet"
   ]
  },
  {
   "cell_type": "code",
   "execution_count": 49,
   "metadata": {
    "execution": {
     "iopub.execute_input": "2023-01-21T15:01:41.464804Z",
     "iopub.status.busy": "2023-01-21T15:01:41.464564Z",
     "iopub.status.idle": "2023-01-21T15:01:41.657723Z",
     "shell.execute_reply": "2023-01-21T15:01:41.656804Z",
     "shell.execute_reply.started": "2023-01-21T15:01:41.464781Z"
    }
   },
   "outputs": [],
   "source": [
    "model_res = ResNet(input_shape=(28,28,1), num_classes=10).model"
   ]
  },
  {
   "cell_type": "code",
   "execution_count": 50,
   "metadata": {
    "execution": {
     "iopub.execute_input": "2023-01-21T15:01:41.659582Z",
     "iopub.status.busy": "2023-01-21T15:01:41.659333Z",
     "iopub.status.idle": "2023-01-21T15:03:35.401309Z",
     "shell.execute_reply": "2023-01-21T15:03:35.400375Z",
     "shell.execute_reply.started": "2023-01-21T15:01:41.659556Z"
    }
   },
   "outputs": [
    {
     "name": "stdout",
     "output_type": "stream",
     "text": [
      "Epoch 1/10\n",
      "1875/1875 [==============================] - 13s 6ms/step - loss: 1.2985 - accuracy: 0.5410 - val_loss: 0.4144 - val_accuracy: 0.8865\n",
      "Epoch 2/10\n",
      "1875/1875 [==============================] - 12s 6ms/step - loss: 0.6532 - accuracy: 0.7999 - val_loss: 0.2641 - val_accuracy: 0.9282\n",
      "Epoch 3/10\n",
      "1875/1875 [==============================] - 12s 6ms/step - loss: 0.5026 - accuracy: 0.8527 - val_loss: 0.2346 - val_accuracy: 0.9383\n",
      "Epoch 4/10\n",
      "1875/1875 [==============================] - 11s 6ms/step - loss: 0.4437 - accuracy: 0.8705 - val_loss: 0.1846 - val_accuracy: 0.9497\n",
      "Epoch 5/10\n",
      "1875/1875 [==============================] - 11s 6ms/step - loss: 0.4076 - accuracy: 0.8821 - val_loss: 0.1789 - val_accuracy: 0.9511\n",
      "Epoch 6/10\n",
      "1875/1875 [==============================] - 11s 6ms/step - loss: 0.3885 - accuracy: 0.8880 - val_loss: 0.1944 - val_accuracy: 0.9527\n",
      "Epoch 7/10\n",
      "1875/1875 [==============================] - 11s 6ms/step - loss: 0.3712 - accuracy: 0.8918 - val_loss: 0.1622 - val_accuracy: 0.9588\n",
      "Epoch 8/10\n",
      "1875/1875 [==============================] - 11s 6ms/step - loss: 0.3512 - accuracy: 0.8985 - val_loss: 0.1689 - val_accuracy: 0.9567\n",
      "Epoch 9/10\n",
      "1875/1875 [==============================] - 11s 6ms/step - loss: 0.3387 - accuracy: 0.9020 - val_loss: 0.1578 - val_accuracy: 0.9582\n",
      "Epoch 10/10\n",
      "1875/1875 [==============================] - 11s 6ms/step - loss: 0.3343 - accuracy: 0.9045 - val_loss: 0.1416 - val_accuracy: 0.9631\n"
     ]
    },
    {
     "data": {
      "text/plain": [
       "<keras.callbacks.History at 0x7fde361bebe0>"
      ]
     },
     "execution_count": 50,
     "metadata": {},
     "output_type": "execute_result"
    }
   ],
   "source": [
    "model_res.fit(X_train, y_train, validation_data=(X_test, y_test), epochs=epochs)"
   ]
  },
  {
   "cell_type": "code",
   "execution_count": 51,
   "metadata": {
    "execution": {
     "iopub.execute_input": "2023-01-21T15:03:35.402813Z",
     "iopub.status.busy": "2023-01-21T15:03:35.402518Z",
     "iopub.status.idle": "2023-01-21T15:03:43.139691Z",
     "shell.execute_reply": "2023-01-21T15:03:43.138688Z",
     "shell.execute_reply.started": "2023-01-21T15:03:35.402789Z"
    }
   },
   "outputs": [],
   "source": [
    "name = model_res.__class__.__name__\n",
    "model_res.save(name + \".h5\")"
   ]
  },
  {
   "cell_type": "code",
   "execution_count": 73,
   "metadata": {
    "execution": {
     "iopub.execute_input": "2023-01-20T22:43:10.901801Z",
     "iopub.status.busy": "2023-01-20T22:43:10.900510Z",
     "iopub.status.idle": "2023-01-20T22:43:12.748663Z",
     "shell.execute_reply": "2023-01-20T22:43:12.747710Z",
     "shell.execute_reply.started": "2023-01-20T22:43:10.901770Z"
    }
   },
   "outputs": [
    {
     "name": "stdout",
     "output_type": "stream",
     "text": [
      "313/313 [==============================] - 2s 5ms/step\n"
     ]
    },
    {
     "data": {
      "text/plain": [
       "0.924"
      ]
     },
     "execution_count": 73,
     "metadata": {},
     "output_type": "execute_result"
    }
   ],
   "source": [
    "y_pred_res = model_res.predict(X_test)\n",
    "y_pred_res_int = np.argmax(y_pred_res, axis=1)\n",
    "\n",
    "sum(y_pred_res_int==y_test_int)/len(y_test_int)"
   ]
  },
  {
   "cell_type": "markdown",
   "metadata": {},
   "source": [
    "### Test GoogleLeNet"
   ]
  },
  {
   "cell_type": "code",
   "execution_count": 15,
   "metadata": {
    "execution": {
     "iopub.execute_input": "2023-01-20T23:17:21.123805Z",
     "iopub.status.busy": "2023-01-20T23:17:21.123339Z",
     "iopub.status.idle": "2023-01-20T23:17:21.579989Z",
     "shell.execute_reply": "2023-01-20T23:17:21.577763Z",
     "shell.execute_reply.started": "2023-01-20T23:17:21.123775Z"
    }
   },
   "outputs": [
    {
     "ename": "ValueError",
     "evalue": "A `Concatenate` layer requires inputs with matching shapes except for the concatenation axis. Received: input_shape=[(None, 4, 3, 64), (None, 4, 3, 128), (None, 4, 3, 32), (None, 4, 3, 32)]",
     "output_type": "error",
     "traceback": [
      "\u001b[0;31m---------------------------------------------------------------------------\u001b[0m",
      "\u001b[0;31mValueError\u001b[0m                                Traceback (most recent call last)",
      "Input \u001b[0;32mIn [15]\u001b[0m, in \u001b[0;36m<cell line: 1>\u001b[0;34m()\u001b[0m\n\u001b[0;32m----> 1\u001b[0m model_google \u001b[38;5;241m=\u001b[39m \u001b[43mGoogleLeNet\u001b[49m\u001b[43m(\u001b[49m\u001b[43minput_shape\u001b[49m\u001b[38;5;241;43m=\u001b[39;49m\u001b[43m(\u001b[49m\u001b[38;5;241;43m28\u001b[39;49m\u001b[43m,\u001b[49m\u001b[38;5;241;43m28\u001b[39;49m\u001b[43m,\u001b[49m\u001b[38;5;241;43m1\u001b[39;49m\u001b[43m)\u001b[49m\u001b[43m,\u001b[49m\u001b[43m \u001b[49m\u001b[43mnum_classes\u001b[49m\u001b[38;5;241;43m=\u001b[39;49m\u001b[38;5;241;43m10\u001b[39;49m\u001b[43m)\u001b[49m\n",
      "Input \u001b[0;32mIn [14]\u001b[0m, in \u001b[0;36mGoogleLeNet.__init__\u001b[0;34m(self, input_shape, num_classes)\u001b[0m\n\u001b[1;32m     26\u001b[0m inception_3a_pool \u001b[38;5;241m=\u001b[39m MaxPooling2D(pool_size\u001b[38;5;241m=\u001b[39m(\u001b[38;5;241m3\u001b[39m,\u001b[38;5;241m3\u001b[39m), strides\u001b[38;5;241m=\u001b[39m(\u001b[38;5;241m1\u001b[39m,\u001b[38;5;241m1\u001b[39m), padding\u001b[38;5;241m=\u001b[39m\u001b[38;5;124m'\u001b[39m\u001b[38;5;124msame\u001b[39m\u001b[38;5;124m'\u001b[39m, name\u001b[38;5;241m=\u001b[39m\u001b[38;5;124m'\u001b[39m\u001b[38;5;124minception_3a/pool\u001b[39m\u001b[38;5;124m'\u001b[39m)(pool2_3x3_s2)\n\u001b[1;32m     27\u001b[0m inception_3a_pool_proj \u001b[38;5;241m=\u001b[39m Convolution2D(\u001b[38;5;241m32\u001b[39m, (\u001b[38;5;241m1\u001b[39m,\u001b[38;5;241m1\u001b[39m), padding\u001b[38;5;241m=\u001b[39m\u001b[38;5;124m'\u001b[39m\u001b[38;5;124msame\u001b[39m\u001b[38;5;124m'\u001b[39m, activation\u001b[38;5;241m=\u001b[39m\u001b[38;5;124m'\u001b[39m\u001b[38;5;124mrelu\u001b[39m\u001b[38;5;124m'\u001b[39m, name\u001b[38;5;241m=\u001b[39m\u001b[38;5;124m'\u001b[39m\u001b[38;5;124minception_3a/pool_proj\u001b[39m\u001b[38;5;124m'\u001b[39m, kernel_regularizer\u001b[38;5;241m=\u001b[39ml2(\u001b[38;5;241m0.0002\u001b[39m))(inception_3a_pool)\n\u001b[0;32m---> 28\u001b[0m inception_3a_output \u001b[38;5;241m=\u001b[39m \u001b[43mConcatenate\u001b[49m\u001b[43m(\u001b[49m\u001b[43maxis\u001b[49m\u001b[38;5;241;43m=\u001b[39;49m\u001b[38;5;241;43m2\u001b[39;49m\u001b[43m,\u001b[49m\u001b[43m \u001b[49m\u001b[43mname\u001b[49m\u001b[38;5;241;43m=\u001b[39;49m\u001b[38;5;124;43m'\u001b[39;49m\u001b[38;5;124;43minception_3a/output\u001b[39;49m\u001b[38;5;124;43m'\u001b[39;49m\u001b[43m)\u001b[49m\u001b[43m(\u001b[49m\u001b[43m[\u001b[49m\u001b[43minception_3a_1x1\u001b[49m\u001b[43m,\u001b[49m\u001b[43minception_3a_3x3\u001b[49m\u001b[43m,\u001b[49m\u001b[43minception_3a_5x5\u001b[49m\u001b[43m,\u001b[49m\u001b[43minception_3a_pool_proj\u001b[49m\u001b[43m]\u001b[49m\u001b[43m)\u001b[49m\n\u001b[1;32m     30\u001b[0m inception_3b_1x1 \u001b[38;5;241m=\u001b[39m Convolution2D(\u001b[38;5;241m128\u001b[39m, (\u001b[38;5;241m1\u001b[39m,\u001b[38;5;241m1\u001b[39m), padding\u001b[38;5;241m=\u001b[39m\u001b[38;5;124m'\u001b[39m\u001b[38;5;124msame\u001b[39m\u001b[38;5;124m'\u001b[39m, activation\u001b[38;5;241m=\u001b[39m\u001b[38;5;124m'\u001b[39m\u001b[38;5;124mrelu\u001b[39m\u001b[38;5;124m'\u001b[39m, name\u001b[38;5;241m=\u001b[39m\u001b[38;5;124m'\u001b[39m\u001b[38;5;124minception_3b/1x1\u001b[39m\u001b[38;5;124m'\u001b[39m, kernel_regularizer\u001b[38;5;241m=\u001b[39ml2(\u001b[38;5;241m0.0002\u001b[39m))(inception_3a_output)\n\u001b[1;32m     31\u001b[0m inception_3b_3x3_reduce \u001b[38;5;241m=\u001b[39m Convolution2D(\u001b[38;5;241m128\u001b[39m, (\u001b[38;5;241m1\u001b[39m,\u001b[38;5;241m1\u001b[39m), padding\u001b[38;5;241m=\u001b[39m\u001b[38;5;124m'\u001b[39m\u001b[38;5;124msame\u001b[39m\u001b[38;5;124m'\u001b[39m, activation\u001b[38;5;241m=\u001b[39m\u001b[38;5;124m'\u001b[39m\u001b[38;5;124mrelu\u001b[39m\u001b[38;5;124m'\u001b[39m, name\u001b[38;5;241m=\u001b[39m\u001b[38;5;124m'\u001b[39m\u001b[38;5;124minception_3b/3x3_reduce\u001b[39m\u001b[38;5;124m'\u001b[39m, kernel_regularizer\u001b[38;5;241m=\u001b[39ml2(\u001b[38;5;241m0.0002\u001b[39m))(inception_3a_output)\n",
      "File \u001b[0;32m/usr/local/lib/python3.9/dist-packages/keras/utils/traceback_utils.py:67\u001b[0m, in \u001b[0;36mfilter_traceback.<locals>.error_handler\u001b[0;34m(*args, **kwargs)\u001b[0m\n\u001b[1;32m     65\u001b[0m \u001b[38;5;28;01mexcept\u001b[39;00m \u001b[38;5;167;01mException\u001b[39;00m \u001b[38;5;28;01mas\u001b[39;00m e:  \u001b[38;5;66;03m# pylint: disable=broad-except\u001b[39;00m\n\u001b[1;32m     66\u001b[0m   filtered_tb \u001b[38;5;241m=\u001b[39m _process_traceback_frames(e\u001b[38;5;241m.\u001b[39m__traceback__)\n\u001b[0;32m---> 67\u001b[0m   \u001b[38;5;28;01mraise\u001b[39;00m e\u001b[38;5;241m.\u001b[39mwith_traceback(filtered_tb) \u001b[38;5;28;01mfrom\u001b[39;00m \u001b[38;5;28mNone\u001b[39m\n\u001b[1;32m     68\u001b[0m \u001b[38;5;28;01mfinally\u001b[39;00m:\n\u001b[1;32m     69\u001b[0m   \u001b[38;5;28;01mdel\u001b[39;00m filtered_tb\n",
      "File \u001b[0;32m/usr/local/lib/python3.9/dist-packages/keras/layers/merging/concatenate.py:123\u001b[0m, in \u001b[0;36mConcatenate.build\u001b[0;34m(self, input_shape)\u001b[0m\n\u001b[1;32m    120\u001b[0m unique_dims \u001b[38;5;241m=\u001b[39m \u001b[38;5;28mset\u001b[39m(\n\u001b[1;32m    121\u001b[0m     shape[axis] \u001b[38;5;28;01mfor\u001b[39;00m shape \u001b[38;5;129;01min\u001b[39;00m shape_set \u001b[38;5;28;01mif\u001b[39;00m shape[axis] \u001b[38;5;129;01mis\u001b[39;00m \u001b[38;5;129;01mnot\u001b[39;00m \u001b[38;5;28;01mNone\u001b[39;00m)\n\u001b[1;32m    122\u001b[0m \u001b[38;5;28;01mif\u001b[39;00m \u001b[38;5;28mlen\u001b[39m(unique_dims) \u001b[38;5;241m>\u001b[39m \u001b[38;5;241m1\u001b[39m:\n\u001b[0;32m--> 123\u001b[0m   \u001b[38;5;28;01mraise\u001b[39;00m \u001b[38;5;167;01mValueError\u001b[39;00m(err_msg)\n",
      "\u001b[0;31mValueError\u001b[0m: A `Concatenate` layer requires inputs with matching shapes except for the concatenation axis. Received: input_shape=[(None, 4, 3, 64), (None, 4, 3, 128), (None, 4, 3, 32), (None, 4, 3, 32)]"
     ]
    }
   ],
   "source": [
    "model_google = GoogleLeNet(input_shape=(28,28,1), num_classes=10)"
   ]
  },
  {
   "cell_type": "code",
   "execution_count": null,
   "metadata": {},
   "outputs": [],
   "source": []
  }
 ],
 "metadata": {
  "kernelspec": {
   "display_name": "Python 3 (ipykernel)",
   "language": "python",
   "name": "python3"
  },
  "language_info": {
   "codemirror_mode": {
    "name": "ipython",
    "version": 3
   },
   "file_extension": ".py",
   "mimetype": "text/x-python",
   "name": "python",
   "nbconvert_exporter": "python",
   "pygments_lexer": "ipython3",
   "version": "3.9.13"
  },
  "vscode": {
   "interpreter": {
    "hash": "5f259148cb483efc4590879632e056b98c6de8bdcfecf742218e5d3d8ba4349c"
   }
  }
 },
 "nbformat": 4,
 "nbformat_minor": 4
}
