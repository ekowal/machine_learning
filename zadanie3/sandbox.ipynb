{
 "cells": [
  {
   "cell_type": "code",
   "execution_count": 1,
   "metadata": {},
   "outputs": [
    {
     "name": "stderr",
     "output_type": "stream",
     "text": [
      "2023-01-21 21:46:20.430177: I tensorflow/core/platform/cpu_feature_guard.cc:193] This TensorFlow binary is optimized with oneAPI Deep Neural Network Library (oneDNN) to use the following CPU instructions in performance-critical operations:  AVX2 AVX512F AVX512_VNNI FMA\n",
      "To enable them in other operations, rebuild TensorFlow with the appropriate compiler flags.\n",
      "2023-01-21 21:46:20.599520: I tensorflow/core/util/port.cc:104] oneDNN custom operations are on. You may see slightly different numerical results due to floating-point round-off errors from different computation orders. To turn them off, set the environment variable `TF_ENABLE_ONEDNN_OPTS=0`.\n",
      "2023-01-21 21:46:20.601958: W tensorflow/compiler/xla/stream_executor/platform/default/dso_loader.cc:64] Could not load dynamic library 'libcudart.so.11.0'; dlerror: libcudart.so.11.0: cannot open shared object file: No such file or directory\n",
      "2023-01-21 21:46:20.601988: I tensorflow/compiler/xla/stream_executor/cuda/cudart_stub.cc:29] Ignore above cudart dlerror if you do not have a GPU set up on your machine.\n",
      "2023-01-21 21:46:21.050495: W tensorflow/compiler/xla/stream_executor/platform/default/dso_loader.cc:64] Could not load dynamic library 'libnvinfer.so.7'; dlerror: libnvinfer.so.7: cannot open shared object file: No such file or directory\n",
      "2023-01-21 21:46:21.050532: W tensorflow/compiler/xla/stream_executor/platform/default/dso_loader.cc:64] Could not load dynamic library 'libnvinfer_plugin.so.7'; dlerror: libnvinfer_plugin.so.7: cannot open shared object file: No such file or directory\n",
      "2023-01-21 21:46:21.050537: W tensorflow/compiler/tf2tensorrt/utils/py_utils.cc:38] TF-TRT Warning: Cannot dlopen some TensorRT libraries. If you would like to use Nvidia GPU with TensorRT, please make sure the missing libraries mentioned above are installed properly.\n"
     ]
    }
   ],
   "source": [
    "import glob\n",
    "from keras.models import load_model\n",
    "from src.evaluate_model import eval_model\n",
    "\n",
    "files = glob.glob(\"models/*\")"
   ]
  },
  {
   "cell_type": "code",
   "execution_count": 3,
   "metadata": {},
   "outputs": [
    {
     "name": "stdout",
     "output_type": "stream",
     "text": [
      "ResNet.h5\n",
      "313/313 [==============================] - 1s 2ms/step\n",
      "              precision    recall  f1-score   support\n",
      "\n",
      "           0       0.98      0.98      0.98       988\n",
      "           1       0.99      0.99      0.99      1134\n",
      "           2       0.97      0.97      0.97      1031\n",
      "           3       0.95      0.97      0.96       987\n",
      "           4       0.97      0.97      0.97       989\n",
      "           5       0.94      0.93      0.94       899\n",
      "           6       0.97      0.97      0.97       962\n",
      "           7       0.96      0.96      0.96      1025\n",
      "           8       0.95      0.94      0.95       987\n",
      "           9       0.94      0.95      0.94       998\n",
      "\n",
      "    accuracy                           0.96     10000\n",
      "   macro avg       0.96      0.96      0.96     10000\n",
      "weighted avg       0.96      0.96      0.96     10000\n",
      "\n",
      "AlexNet.h5\n",
      "313/313 [==============================] - 4s 13ms/step\n",
      "              precision    recall  f1-score   support\n",
      "\n",
      "           0       0.99      0.98      0.99       987\n",
      "           1       0.99      0.99      0.99      1141\n",
      "           2       0.99      0.95      0.97      1071\n",
      "           3       0.94      0.99      0.97       953\n",
      "           4       0.97      0.99      0.98       955\n",
      "           5       0.98      0.96      0.97       909\n",
      "           6       0.99      0.99      0.99       956\n",
      "           7       0.98      0.97      0.97      1043\n",
      "           8       0.96      0.98      0.97       959\n",
      "           9       0.98      0.96      0.97      1026\n",
      "\n",
      "    accuracy                           0.98     10000\n",
      "   macro avg       0.98      0.98      0.98     10000\n",
      "weighted avg       0.98      0.98      0.98     10000\n",
      "\n",
      "SqueezeNet.h5\n",
      "313/313 [==============================] - 2s 7ms/step\n",
      "              precision    recall  f1-score   support\n",
      "\n",
      "           0       1.00      0.99      0.99       990\n",
      "           1       0.99      1.00      0.99      1122\n",
      "           2       0.99      0.97      0.98      1053\n",
      "           3       0.97      0.99      0.98       990\n",
      "           4       0.98      1.00      0.99       967\n",
      "           5       1.00      0.95      0.97       940\n",
      "           6       0.98      0.99      0.98       943\n",
      "           7       0.99      0.98      0.98      1031\n",
      "           8       0.97      0.99      0.98       957\n",
      "           9       0.98      0.98      0.98      1007\n",
      "\n",
      "    accuracy                           0.98     10000\n",
      "   macro avg       0.98      0.98      0.98     10000\n",
      "weighted avg       0.98      0.98      0.98     10000\n",
      "\n",
      "SimpleCNN.h5\n",
      "313/313 [==============================] - 1s 2ms/step\n",
      "              precision    recall  f1-score   support\n",
      "\n",
      "           0       0.02      0.04      0.03       401\n",
      "           1       0.11      0.08      0.09      1586\n",
      "           2       0.14      0.05      0.08      2638\n",
      "           3       0.00      0.00      0.00         0\n",
      "           4       0.05      0.09      0.06       547\n",
      "           5       0.03      0.02      0.02      1702\n",
      "           6       0.03      0.02      0.02      1043\n",
      "           7       0.00      0.00      0.00         8\n",
      "           8       0.09      0.05      0.06      1677\n",
      "           9       0.04      0.10      0.06       398\n",
      "\n",
      "    accuracy                           0.05     10000\n",
      "   macro avg       0.05      0.05      0.04     10000\n",
      "weighted avg       0.08      0.05      0.06     10000\n",
      "\n"
     ]
    },
    {
     "name": "stderr",
     "output_type": "stream",
     "text": [
      "/home/emiliakowal/Desktop/uczenie_maszynowe/.venv/lib/python3.10/site-packages/sklearn/metrics/_classification.py:1334: UndefinedMetricWarning: Recall and F-score are ill-defined and being set to 0.0 in labels with no true samples. Use `zero_division` parameter to control this behavior.\n",
      "  _warn_prf(average, modifier, msg_start, len(result))\n",
      "/home/emiliakowal/Desktop/uczenie_maszynowe/.venv/lib/python3.10/site-packages/sklearn/metrics/_classification.py:1334: UndefinedMetricWarning: Recall and F-score are ill-defined and being set to 0.0 in labels with no true samples. Use `zero_division` parameter to control this behavior.\n",
      "  _warn_prf(average, modifier, msg_start, len(result))\n",
      "/home/emiliakowal/Desktop/uczenie_maszynowe/.venv/lib/python3.10/site-packages/sklearn/metrics/_classification.py:1334: UndefinedMetricWarning: Recall and F-score are ill-defined and being set to 0.0 in labels with no true samples. Use `zero_division` parameter to control this behavior.\n",
      "  _warn_prf(average, modifier, msg_start, len(result))\n"
     ]
    }
   ],
   "source": [
    "for file in files:\n",
    "    model_name = file.split(\"/\")[-1]\n",
    "    model = load_model(file)\n",
    "    print(model_name)\n",
    "    eval_model(model)"
   ]
  },
  {
   "cell_type": "code",
   "execution_count": null,
   "metadata": {},
   "outputs": [],
   "source": []
  }
 ],
 "metadata": {
  "kernelspec": {
   "display_name": ".venv",
   "language": "python",
   "name": "python3"
  },
  "language_info": {
   "codemirror_mode": {
    "name": "ipython",
    "version": 3
   },
   "file_extension": ".py",
   "mimetype": "text/x-python",
   "name": "python",
   "nbconvert_exporter": "python",
   "pygments_lexer": "ipython3",
   "version": "3.10.7 (main, Sep  7 2022, 15:22:19) [GCC 9.4.0]"
  },
  "orig_nbformat": 4,
  "vscode": {
   "interpreter": {
    "hash": "5f259148cb483efc4590879632e056b98c6de8bdcfecf742218e5d3d8ba4349c"
   }
  }
 },
 "nbformat": 4,
 "nbformat_minor": 2
}
